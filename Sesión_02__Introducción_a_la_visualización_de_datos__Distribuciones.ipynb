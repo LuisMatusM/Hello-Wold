{
  "nbformat": 4,
  "nbformat_minor": 0,
  "metadata": {
    "colab": {
      "name": "Sesión 02_ Introducción a la visualización de datos_ Distribuciones.ipynb",
      "provenance": [],
      "collapsed_sections": [],
      "mount_file_id": "1HevMSQ5YuXcM8GJf81VKu4ewOwPVYvJW",
      "authorship_tag": "ABX9TyMxWtWTKeze25jP+EZl9QV1",
      "include_colab_link": true
    },
    "kernelspec": {
      "name": "python3",
      "display_name": "Python 3"
    },
    "language_info": {
      "name": "python"
    }
  },
  "cells": [
    {
      "cell_type": "markdown",
      "metadata": {
        "id": "view-in-github",
        "colab_type": "text"
      },
      "source": [
        "<a href=\"https://colab.research.google.com/github/LuisMatusM/Hello-Wold/blob/main/Sesi%C3%B3n_02__Introducci%C3%B3n_a_la_visualizaci%C3%B3n_de_datos__Distribuciones.ipynb\" target=\"_parent\"><img src=\"https://colab.research.google.com/assets/colab-badge.svg\" alt=\"Open In Colab\"/></a>"
      ]
    },
    {
      "cell_type": "code",
      "metadata": {
        "id": "jnSqdQtJB5xB"
      },
      "source": [
        "import seaborn as sns\n",
        "import matplotlib.pyplot as plt\n",
        "import pandas as pd\n"
      ],
      "execution_count": 1,
      "outputs": []
    },
    {
      "cell_type": "code",
      "metadata": {
        "id": "9xloLC4ZGCy0"
      },
      "source": [
        "df = pd.read_csv('/content/drive/MyDrive/Datasets/melbourne_housing-clean.csv', index_col=0)"
      ],
      "execution_count": 3,
      "outputs": []
    },
    {
      "cell_type": "code",
      "metadata": {
        "colab": {
          "base_uri": "https://localhost:8080/",
          "height": 343
        },
        "id": "_m-CZiU0Gaxy",
        "outputId": "010937c6-be80-4c99-f9c7-0efb7ea4c15f"
      },
      "source": [
        "df.head()"
      ],
      "execution_count": 4,
      "outputs": [
        {
          "output_type": "execute_result",
          "data": {
            "text/html": [
              "<div>\n",
              "<style scoped>\n",
              "    .dataframe tbody tr th:only-of-type {\n",
              "        vertical-align: middle;\n",
              "    }\n",
              "\n",
              "    .dataframe tbody tr th {\n",
              "        vertical-align: top;\n",
              "    }\n",
              "\n",
              "    .dataframe thead th {\n",
              "        text-align: right;\n",
              "    }\n",
              "</style>\n",
              "<table border=\"1\" class=\"dataframe\">\n",
              "  <thead>\n",
              "    <tr style=\"text-align: right;\">\n",
              "      <th></th>\n",
              "      <th>suburb</th>\n",
              "      <th>address</th>\n",
              "      <th>rooms</th>\n",
              "      <th>type</th>\n",
              "      <th>price</th>\n",
              "      <th>method</th>\n",
              "      <th>seller_g</th>\n",
              "      <th>date</th>\n",
              "      <th>distance</th>\n",
              "      <th>postcode</th>\n",
              "      <th>bedroom_2</th>\n",
              "      <th>bathroom</th>\n",
              "      <th>car</th>\n",
              "      <th>land_size</th>\n",
              "      <th>council_area</th>\n",
              "      <th>latitude</th>\n",
              "      <th>longitude</th>\n",
              "      <th>region_name</th>\n",
              "      <th>property_count</th>\n",
              "    </tr>\n",
              "  </thead>\n",
              "  <tbody>\n",
              "    <tr>\n",
              "      <th>0</th>\n",
              "      <td>Abbotsford</td>\n",
              "      <td>85 Turner St</td>\n",
              "      <td>2</td>\n",
              "      <td>h</td>\n",
              "      <td>1480000.0</td>\n",
              "      <td>S</td>\n",
              "      <td>Biggin</td>\n",
              "      <td>3/12/2016</td>\n",
              "      <td>2.5</td>\n",
              "      <td>3067.0</td>\n",
              "      <td>2.0</td>\n",
              "      <td>1.0</td>\n",
              "      <td>1.0</td>\n",
              "      <td>202.0</td>\n",
              "      <td>Yarra</td>\n",
              "      <td>-37.7996</td>\n",
              "      <td>144.9984</td>\n",
              "      <td>Northern Metropolitan</td>\n",
              "      <td>4019.0</td>\n",
              "    </tr>\n",
              "    <tr>\n",
              "      <th>1</th>\n",
              "      <td>Abbotsford</td>\n",
              "      <td>25 Bloomburg St</td>\n",
              "      <td>2</td>\n",
              "      <td>h</td>\n",
              "      <td>1035000.0</td>\n",
              "      <td>S</td>\n",
              "      <td>Biggin</td>\n",
              "      <td>4/02/2016</td>\n",
              "      <td>2.5</td>\n",
              "      <td>3067.0</td>\n",
              "      <td>2.0</td>\n",
              "      <td>1.0</td>\n",
              "      <td>0.0</td>\n",
              "      <td>156.0</td>\n",
              "      <td>Yarra</td>\n",
              "      <td>-37.8079</td>\n",
              "      <td>144.9934</td>\n",
              "      <td>Northern Metropolitan</td>\n",
              "      <td>4019.0</td>\n",
              "    </tr>\n",
              "    <tr>\n",
              "      <th>2</th>\n",
              "      <td>Abbotsford</td>\n",
              "      <td>5 Charles St</td>\n",
              "      <td>3</td>\n",
              "      <td>h</td>\n",
              "      <td>1465000.0</td>\n",
              "      <td>SP</td>\n",
              "      <td>Biggin</td>\n",
              "      <td>4/03/2017</td>\n",
              "      <td>2.5</td>\n",
              "      <td>3067.0</td>\n",
              "      <td>3.0</td>\n",
              "      <td>2.0</td>\n",
              "      <td>0.0</td>\n",
              "      <td>134.0</td>\n",
              "      <td>Yarra</td>\n",
              "      <td>-37.8093</td>\n",
              "      <td>144.9944</td>\n",
              "      <td>Northern Metropolitan</td>\n",
              "      <td>4019.0</td>\n",
              "    </tr>\n",
              "    <tr>\n",
              "      <th>3</th>\n",
              "      <td>Abbotsford</td>\n",
              "      <td>40 Federation La</td>\n",
              "      <td>3</td>\n",
              "      <td>h</td>\n",
              "      <td>850000.0</td>\n",
              "      <td>PI</td>\n",
              "      <td>Biggin</td>\n",
              "      <td>4/03/2017</td>\n",
              "      <td>2.5</td>\n",
              "      <td>3067.0</td>\n",
              "      <td>3.0</td>\n",
              "      <td>2.0</td>\n",
              "      <td>1.0</td>\n",
              "      <td>94.0</td>\n",
              "      <td>Yarra</td>\n",
              "      <td>-37.7969</td>\n",
              "      <td>144.9969</td>\n",
              "      <td>Northern Metropolitan</td>\n",
              "      <td>4019.0</td>\n",
              "    </tr>\n",
              "    <tr>\n",
              "      <th>4</th>\n",
              "      <td>Abbotsford</td>\n",
              "      <td>55a Park St</td>\n",
              "      <td>4</td>\n",
              "      <td>h</td>\n",
              "      <td>1600000.0</td>\n",
              "      <td>VB</td>\n",
              "      <td>Nelson</td>\n",
              "      <td>4/06/2016</td>\n",
              "      <td>2.5</td>\n",
              "      <td>3067.0</td>\n",
              "      <td>3.0</td>\n",
              "      <td>1.0</td>\n",
              "      <td>2.0</td>\n",
              "      <td>120.0</td>\n",
              "      <td>Yarra</td>\n",
              "      <td>-37.8072</td>\n",
              "      <td>144.9941</td>\n",
              "      <td>Northern Metropolitan</td>\n",
              "      <td>4019.0</td>\n",
              "    </tr>\n",
              "  </tbody>\n",
              "</table>\n",
              "</div>"
            ],
            "text/plain": [
              "       suburb           address  ...            region_name property_count\n",
              "0  Abbotsford      85 Turner St  ...  Northern Metropolitan         4019.0\n",
              "1  Abbotsford   25 Bloomburg St  ...  Northern Metropolitan         4019.0\n",
              "2  Abbotsford      5 Charles St  ...  Northern Metropolitan         4019.0\n",
              "3  Abbotsford  40 Federation La  ...  Northern Metropolitan         4019.0\n",
              "4  Abbotsford       55a Park St  ...  Northern Metropolitan         4019.0\n",
              "\n",
              "[5 rows x 19 columns]"
            ]
          },
          "metadata": {
            "tags": []
          },
          "execution_count": 4
        }
      ]
    },
    {
      "cell_type": "markdown",
      "metadata": {
        "id": "0-reStEiJ3IR"
      },
      "source": [
        "Boxplot"
      ]
    },
    {
      "cell_type": "code",
      "metadata": {
        "colab": {
          "base_uri": "https://localhost:8080/",
          "height": 302
        },
        "id": "q_V8tKVsGa7z",
        "outputId": "11c8842f-3d8a-45c5-daea-a1e40f45ab53"
      },
      "source": [
        "sns.set(style='whitegrid')\n",
        "sns.boxplot(x=df['price'])"
      ],
      "execution_count": 5,
      "outputs": [
        {
          "output_type": "execute_result",
          "data": {
            "text/plain": [
              "<matplotlib.axes._subplots.AxesSubplot at 0x7f6dcd909e10>"
            ]
          },
          "metadata": {
            "tags": []
          },
          "execution_count": 5
        },
        {
          "output_type": "display_data",
          "data": {
            "image/png": "[encoded data removed]",
            "text/plain": [
              "<Figure size 432x288 with 1 Axes>"
            ]
          },
          "metadata": {
            "tags": []
          }
        }
      ]
    },
    {
      "cell_type": "code",
      "metadata": {
        "colab": {
          "base_uri": "https://localhost:8080/",
          "height": 302
        },
        "id": "Lhp7YjRXGbDK",
        "outputId": "9c8204fc-1498-445d-d7a5-0b9b759bf281"
      },
      "source": [
        "sns.set(style='whitegrid')\n",
        "sns.boxplot(x=df['price'])\n",
        "plt.axvline(df['price'].mean(), c='y')"
      ],
      "execution_count": 8,
      "outputs": [
        {
          "output_type": "execute_result",
          "data": {
            "text/plain": [
              "<matplotlib.lines.Line2D at 0x7f6dc0804a10>"
            ]
          },
          "metadata": {
            "tags": []
          },
          "execution_count": 8
        },
        {
          "output_type": "display_data",
          "data": {
            "image/png": "[encoded data removed]",
            "text/plain": [
              "<Figure size 432x288 with 1 Axes>"
            ]
          },
          "metadata": {
            "tags": []
          }
        }
      ]
    },
    {
      "cell_type": "markdown",
      "metadata": {
        "id": "-Y5Q-CVfKAee"
      },
      "source": [
        "Score de rango intercuartilico  IQR-score"
      ]
    },
    {
      "cell_type": "code",
      "metadata": {
        "id": "zHAEqrVnGbFs"
      },
      "source": [
        "iqr= df['price'].quantile(0.75)- df['price'].quantile(0.25)\n",
        "filtro_inferior = df['price'] > df['price'].quantile(0.25)-(iqr*1.5)\n",
        "filtro_superior = df['price'] < df['price'].quantile(0.75)+(iqr*1.5)\n",
        "\n",
        "df_filtrado= df[filtro_inferior & filtro_superior]"
      ],
      "execution_count": 11,
      "outputs": []
    },
    {
      "cell_type": "code",
      "metadata": {
        "colab": {
          "base_uri": "https://localhost:8080/",
          "height": 356
        },
        "id": "O0FgNMEFJ78H",
        "outputId": "ae187426-6cda-4d2e-8338-7d0b922ad1dc"
      },
      "source": [
        "sns.boxplot(df_filtrado['price'])"
      ],
      "execution_count": 12,
      "outputs": [
        {
          "output_type": "stream",
          "text": [
            "/usr/local/lib/python3.7/dist-packages/seaborn/_decorators.py:43: FutureWarning: Pass the following variable as a keyword arg: x. From version 0.12, the only valid positional argument will be `data`, and passing other arguments without an explicit keyword will result in an error or misinterpretation.\n",
            "  FutureWarning\n"
          ],
          "name": "stderr"
        },
        {
          "output_type": "execute_result",
          "data": {
            "text/plain": [
              "<matplotlib.axes._subplots.AxesSubplot at 0x7f6dc04998d0>"
            ]
          },
          "metadata": {
            "tags": []
          },
          "execution_count": 12
        },
        {
          "output_type": "display_data",
          "data": {
            "image/png": "[encoded data removed]",
            "text/plain": [
              "<Figure size 432x288 with 1 Axes>"
            ]
          },
          "metadata": {
            "tags": []
          }
        }
      ]
    },
    {
      "cell_type": "markdown",
      "metadata": {
        "id": "nlIk5z9-Nhe9"
      },
      "source": [
        "Reto 1"
      ]
    },
    {
      "cell_type": "code",
      "metadata": {
        "id": "6utfV0ScJ7xl"
      },
      "source": [
        "df_meteoritos = pd.read_csv('/content/drive/MyDrive/Datasets/near_earth_objects-jan_feb_1995-clean.csv', index_col=0)\n",
        "df_ny= pd.read_json('/content/drive/MyDrive/Datasets/new_york_times_bestsellers-clean.json')\n"
      ],
      "execution_count": 15,
      "outputs": []
    },
    {
      "cell_type": "code",
      "metadata": {
        "colab": {
          "base_uri": "https://localhost:8080/",
          "height": 356
        },
        "id": "-WxjlrEoNi0T",
        "outputId": "1c21269f-a1fe-4f74-ba61-f716bd457675"
      },
      "source": [
        "sns.boxplot(df_meteoritos['estimated_diameter.meters.estimated_diameter_max'])"
      ],
      "execution_count": 17,
      "outputs": [
        {
          "output_type": "stream",
          "text": [
            "/usr/local/lib/python3.7/dist-packages/seaborn/_decorators.py:43: FutureWarning: Pass the following variable as a keyword arg: x. From version 0.12, the only valid positional argument will be `data`, and passing other arguments without an explicit keyword will result in an error or misinterpretation.\n",
            "  FutureWarning\n"
          ],
          "name": "stderr"
        },
        {
          "output_type": "execute_result",
          "data": {
            "text/plain": [
              "<matplotlib.axes._subplots.AxesSubplot at 0x7f6dbf4647d0>"
            ]
          },
          "metadata": {
            "tags": []
          },
          "execution_count": 17
        },
        {
          "output_type": "display_data",
          "data": {
            "image/png": "[encoded data removed]",
            "text/plain": [
              "<Figure size 432x288 with 1 Axes>"
            ]
          },
          "metadata": {
            "tags": []
          }
        }
      ]
    },
    {
      "cell_type": "code",
      "metadata": {
        "id": "qFhx7PFsPStD"
      },
      "source": [
        "iqr_mt1= df_meteoritos['estimated_diameter.meters.estimated_diameter_max'].quantile(0.75)- df_meteoritos['estimated_diameter.meters.estimated_diameter_max'].quantile(0.25)\n",
        "filtro_in_mt1 = df_meteoritos['estimated_diameter.meters.estimated_diameter_max'] > df_meteoritos['estimated_diameter.meters.estimated_diameter_max'].quantile(0.25)-(iqr_mt1*1.5)\n",
        "filtro_sup_mt1 = df_meteoritos['estimated_diameter.meters.estimated_diameter_max'] < df_meteoritos['estimated_diameter.meters.estimated_diameter_max'].quantile(0.75)+(iqr_mt1*1.5)\n",
        "\n",
        "df_mt_filtrado= df_meteoritos[filtro_in_mt1 & filtro_sup_mt1]"
      ],
      "execution_count": 20,
      "outputs": []
    },
    {
      "cell_type": "code",
      "metadata": {
        "colab": {
          "base_uri": "https://localhost:8080/",
          "height": 356
        },
        "id": "jhT2EXE4QMYi",
        "outputId": "929691ff-6ee5-4036-a38a-db97f96741ba"
      },
      "source": [
        "sns.boxplot(df_mt_filtrado['estimated_diameter.meters.estimated_diameter_max'])"
      ],
      "execution_count": 21,
      "outputs": [
        {
          "output_type": "stream",
          "text": [
            "/usr/local/lib/python3.7/dist-packages/seaborn/_decorators.py:43: FutureWarning: Pass the following variable as a keyword arg: x. From version 0.12, the only valid positional argument will be `data`, and passing other arguments without an explicit keyword will result in an error or misinterpretation.\n",
            "  FutureWarning\n"
          ],
          "name": "stderr"
        },
        {
          "output_type": "execute_result",
          "data": {
            "text/plain": [
              "<matplotlib.axes._subplots.AxesSubplot at 0x7f6dbed8c510>"
            ]
          },
          "metadata": {
            "tags": []
          },
          "execution_count": 21
        },
        {
          "output_type": "display_data",
          "data": {
            "image/png": "[encoded data removed]",
            "text/plain": [
              "<Figure size 432x288 with 1 Axes>"
            ]
          },
          "metadata": {
            "tags": []
          }
        }
      ]
    },
    {
      "cell_type": "code",
      "metadata": {
        "colab": {
          "base_uri": "https://localhost:8080/",
          "height": 356
        },
        "id": "gbBThJMaOxV8",
        "outputId": "3f602f45-a3a1-4f13-ea7d-af10f633e47d"
      },
      "source": [
        "sns.boxplot(df_meteoritos['relative_velocity.kilometers_per_second'])"
      ],
      "execution_count": 18,
      "outputs": [
        {
          "output_type": "stream",
          "text": [
            "/usr/local/lib/python3.7/dist-packages/seaborn/_decorators.py:43: FutureWarning: Pass the following variable as a keyword arg: x. From version 0.12, the only valid positional argument will be `data`, and passing other arguments without an explicit keyword will result in an error or misinterpretation.\n",
            "  FutureWarning\n"
          ],
          "name": "stderr"
        },
        {
          "output_type": "execute_result",
          "data": {
            "text/plain": [
              "<matplotlib.axes._subplots.AxesSubplot at 0x7f6dbedab950>"
            ]
          },
          "metadata": {
            "tags": []
          },
          "execution_count": 18
        },
        {
          "output_type": "display_data",
          "data": {
            "image/png": "[encoded data removed]",
            "text/plain": [
              "<Figure size 432x288 with 1 Axes>"
            ]
          },
          "metadata": {
            "tags": []
          }
        }
      ]
    },
    {
      "cell_type": "code",
      "metadata": {
        "id": "yzw4uw4dQysX"
      },
      "source": [
        "iqr_mt2= df_meteoritos['relative_velocity.kilometers_per_second'].quantile(0.75)- df_meteoritos['relative_velocity.kilometers_per_second'].quantile(0.25)\n",
        "filtro_in_mt2 = df_meteoritos['relative_velocity.kilometers_per_second'] > df_meteoritos['relative_velocity.kilometers_per_second'].quantile(0.25)-(iqr_mt2*1.5)\n",
        "filtro_sup_mt2 = df_meteoritos['relative_velocity.kilometers_per_second'] < df_meteoritos['relative_velocity.kilometers_per_second'].quantile(0.75)+(iqr_mt2*1.5)\n",
        "\n",
        "df_mt2_filtrado= df_meteoritos[filtro_in_mt2 & filtro_sup_mt2]"
      ],
      "execution_count": 22,
      "outputs": []
    },
    {
      "cell_type": "code",
      "metadata": {
        "colab": {
          "base_uri": "https://localhost:8080/",
          "height": 356
        },
        "id": "99Pru0YVRIZw",
        "outputId": "38d5d703-dac6-4a57-8725-ce1518825a9d"
      },
      "source": [
        "sns.boxplot(df_mt2_filtrado['relative_velocity.kilometers_per_second'])"
      ],
      "execution_count": 23,
      "outputs": [
        {
          "output_type": "stream",
          "text": [
            "/usr/local/lib/python3.7/dist-packages/seaborn/_decorators.py:43: FutureWarning: Pass the following variable as a keyword arg: x. From version 0.12, the only valid positional argument will be `data`, and passing other arguments without an explicit keyword will result in an error or misinterpretation.\n",
            "  FutureWarning\n"
          ],
          "name": "stderr"
        },
        {
          "output_type": "execute_result",
          "data": {
            "text/plain": [
              "<matplotlib.axes._subplots.AxesSubplot at 0x7f6dbee27bd0>"
            ]
          },
          "metadata": {
            "tags": []
          },
          "execution_count": 23
        },
        {
          "output_type": "display_data",
          "data": {
            "image/png": "[encoded data removed]",
            "text/plain": [
              "<Figure size 432x288 with 1 Axes>"
            ]
          },
          "metadata": {
            "tags": []
          }
        }
      ]
    },
    {
      "cell_type": "code",
      "metadata": {
        "colab": {
          "base_uri": "https://localhost:8080/",
          "height": 356
        },
        "id": "QzWlGb6-Rebh",
        "outputId": "d6cbada5-dc9d-434c-e4e1-e75ef8c7100e"
      },
      "source": [
        "sns.boxplot(df_ny['price.numberDouble'])"
      ],
      "execution_count": 24,
      "outputs": [
        {
          "output_type": "stream",
          "text": [
            "/usr/local/lib/python3.7/dist-packages/seaborn/_decorators.py:43: FutureWarning: Pass the following variable as a keyword arg: x. From version 0.12, the only valid positional argument will be `data`, and passing other arguments without an explicit keyword will result in an error or misinterpretation.\n",
            "  FutureWarning\n"
          ],
          "name": "stderr"
        },
        {
          "output_type": "execute_result",
          "data": {
            "text/plain": [
              "<matplotlib.axes._subplots.AxesSubplot at 0x7f6dbecaa8d0>"
            ]
          },
          "metadata": {
            "tags": []
          },
          "execution_count": 24
        },
        {
          "output_type": "display_data",
          "data": {
            "image/png": "[encoded data removed]",
            "text/plain": [
              "<Figure size 432x288 with 1 Axes>"
            ]
          },
          "metadata": {
            "tags": []
          }
        }
      ]
    },
    {
      "cell_type": "markdown",
      "metadata": {
        "id": "ejSp_UIZR9Ld"
      },
      "source": [
        "Dataset: 'near_earth_objects-jan_feb_1995-clean.csv'\n",
        "Columnas a graficar: 'estimated_diameter.meters.estimated_diameter_max' y 'relative_velocity.kilometers_per_second'\n",
        "Dataset: 'new_york_times_bestsellers-clean.json'\n",
        "Columnas a graficar: 'price.numberDouble'\n",
        "Dataset: 'melbourne_housing-clean.csv'\n",
        "Columnas a graficar: 'land_size'"
      ]
    },
    {
      "cell_type": "markdown",
      "metadata": {
        "id": "wkAMcp0VSXpg"
      },
      "source": [
        "Tablas de frecuencia"
      ]
    },
    {
      "cell_type": "code",
      "metadata": {
        "colab": {
          "base_uri": "https://localhost:8080/"
        },
        "id": "5-bYuRK7SAPk",
        "outputId": "c0b2b33f-3514-4bf7-b345-21a128e24d9c"
      },
      "source": [
        "price = df['price']\n",
        "price.max()-price.min()"
      ],
      "execution_count": 26,
      "outputs": [
        {
          "output_type": "execute_result",
          "data": {
            "text/plain": [
              "8915000.0"
            ]
          },
          "metadata": {
            "tags": []
          },
          "execution_count": 26
        }
      ]
    },
    {
      "cell_type": "code",
      "metadata": {
        "colab": {
          "base_uri": "https://localhost:8080/"
        },
        "id": "gqKFmZPATAID",
        "outputId": "aaa85ec6-a0c1-4694-c385-17b33cd25ae9"
      },
      "source": [
        "pd.cut(price, 20)"
      ],
      "execution_count": 27,
      "outputs": [
        {
          "output_type": "execute_result",
          "data": {
            "text/plain": [
              "0        (1422250.0, 1868000.0]\n",
              "1         (976500.0, 1422250.0]\n",
              "2        (1422250.0, 1868000.0]\n",
              "3          (530750.0, 976500.0]\n",
              "4        (1422250.0, 1868000.0]\n",
              "                  ...          \n",
              "11641      (530750.0, 976500.0]\n",
              "11642     (976500.0, 1422250.0]\n",
              "11643      (530750.0, 976500.0]\n",
              "11644    (2313750.0, 2759500.0]\n",
              "11645      (530750.0, 976500.0]\n",
              "Name: price, Length: 11646, dtype: category\n",
              "Categories (20, interval[float64]): [(76085.0, 530750.0] < (530750.0, 976500.0] < (976500.0, 1422250.0] <\n",
              "                                     (1422250.0, 1868000.0] ... (7217000.0, 7662750.0] <\n",
              "                                     (7662750.0, 8108500.0] < (8108500.0, 8554250.0] <\n",
              "                                     (8554250.0, 9000000.0]]"
            ]
          },
          "metadata": {
            "tags": []
          },
          "execution_count": 27
        }
      ]
    },
    {
      "cell_type": "code",
      "metadata": {
        "id": "keQCK_OSTNIl"
      },
      "source": [
        "segmentos = pd.cut(price, 20)"
      ],
      "execution_count": 28,
      "outputs": []
    },
    {
      "cell_type": "code",
      "metadata": {
        "colab": {
          "base_uri": "https://localhost:8080/"
        },
        "id": "16YOuIIOTjsV",
        "outputId": "92452a20-9cab-4379-ccd4-d4cfa0fd1713"
      },
      "source": [
        "df['price'].groupby(by=segmentos).count()"
      ],
      "execution_count": 29,
      "outputs": [
        {
          "output_type": "execute_result",
          "data": {
            "text/plain": [
              "price\n",
              "(76085.0, 530750.0]       1747\n",
              "(530750.0, 976500.0]      4835\n",
              "(976500.0, 1422250.0]     2664\n",
              "(1422250.0, 1868000.0]    1278\n",
              "(1868000.0, 2313750.0]     570\n",
              "(2313750.0, 2759500.0]     261\n",
              "(2759500.0, 3205250.0]     141\n",
              "(3205250.0, 3651000.0]      67\n",
              "(3651000.0, 4096750.0]      40\n",
              "(4096750.0, 4542500.0]      16\n",
              "(4542500.0, 4988250.0]      10\n",
              "(4988250.0, 5434000.0]       5\n",
              "(5434000.0, 5879750.0]       7\n",
              "(5879750.0, 6325500.0]       1\n",
              "(6325500.0, 6771250.0]       1\n",
              "(6771250.0, 7217000.0]       0\n",
              "(7217000.0, 7662750.0]       1\n",
              "(7662750.0, 8108500.0]       1\n",
              "(8108500.0, 8554250.0]       0\n",
              "(8554250.0, 9000000.0]       1\n",
              "Name: price, dtype: int64"
            ]
          },
          "metadata": {
            "tags": []
          },
          "execution_count": 29
        }
      ]
    },
    {
      "cell_type": "code",
      "metadata": {
        "colab": {
          "base_uri": "https://localhost:8080/",
          "height": 356
        },
        "id": "dSTKUDz9Tunf",
        "outputId": "157c1bb1-3807-41f2-a300-e7dd8c6ef06c"
      },
      "source": [
        "sns.boxplot(df['price']) # para comparar con los datos de la tabla de frecuencia"
      ],
      "execution_count": 31,
      "outputs": [
        {
          "output_type": "stream",
          "text": [
            "/usr/local/lib/python3.7/dist-packages/seaborn/_decorators.py:43: FutureWarning: Pass the following variable as a keyword arg: x. From version 0.12, the only valid positional argument will be `data`, and passing other arguments without an explicit keyword will result in an error or misinterpretation.\n",
            "  FutureWarning\n"
          ],
          "name": "stderr"
        },
        {
          "output_type": "execute_result",
          "data": {
            "text/plain": [
              "<matplotlib.axes._subplots.AxesSubplot at 0x7f6dbedfdb50>"
            ]
          },
          "metadata": {
            "tags": []
          },
          "execution_count": 31
        },
        {
          "output_type": "display_data",
          "data": {
            "image/png": "[encoded data removed]",
            "text/plain": [
              "<Figure size 432x288 with 1 Axes>"
            ]
          },
          "metadata": {
            "tags": []
          }
        }
      ]
    },
    {
      "cell_type": "markdown",
      "metadata": {
        "id": "0lhdx7DmX56s"
      },
      "source": [
        "Reto 2"
      ]
    },
    {
      "cell_type": "code",
      "metadata": {
        "colab": {
          "base_uri": "https://localhost:8080/"
        },
        "id": "8km5ejjCUEry",
        "outputId": "b71d7614-af86-4c3a-d1a4-d08d248c1790"
      },
      "source": [
        "diam=df_meteoritos['estimated_diameter.meters.estimated_diameter_max']\n",
        "seg_diam = pd.cut(diam,20)\n",
        "df_meteoritos['estimated_diameter.meters.estimated_diameter_max'].groupby(by=seg_diam).count()"
      ],
      "execution_count": 35,
      "outputs": [
        {
          "output_type": "execute_result",
          "data": {
            "text/plain": [
              "estimated_diameter.meters.estimated_diameter_max\n",
              "(-3.535, 328.674]       207\n",
              "(328.674, 654.369]       67\n",
              "(654.369, 980.065]       24\n",
              "(980.065, 1305.76]       18\n",
              "(1305.76, 1631.455]       4\n",
              "(1631.455, 1957.15]       6\n",
              "(1957.15, 2282.846]       1\n",
              "(2282.846, 2608.541]      1\n",
              "(2608.541, 2934.236]      1\n",
              "(2934.236, 3259.931]      1\n",
              "(3259.931, 3585.627]      1\n",
              "(3585.627, 3911.322]      1\n",
              "(3911.322, 4237.017]      0\n",
              "(4237.017, 4562.712]      0\n",
              "(4562.712, 4888.408]      0\n",
              "(4888.408, 5214.103]      0\n",
              "(5214.103, 5539.798]      0\n",
              "(5539.798, 5865.493]      0\n",
              "(5865.493, 6191.189]      0\n",
              "(6191.189, 6516.884]      1\n",
              "Name: estimated_diameter.meters.estimated_diameter_max, dtype: int64"
            ]
          },
          "metadata": {
            "tags": []
          },
          "execution_count": 35
        }
      ]
    },
    {
      "cell_type": "code",
      "metadata": {
        "colab": {
          "base_uri": "https://localhost:8080/"
        },
        "id": "Wf4QyzxEYq_S",
        "outputId": "52c21748-0b26-4adc-82ec-18e1456d3dbf"
      },
      "source": [
        "vel=df_meteoritos['relative_velocity.kilometers_per_second']\n",
        "seg_vel = pd.cut(vel,20)\n",
        "df_meteoritos['relative_velocity.kilometers_per_second'].groupby(by=seg_vel).count()"
      ],
      "execution_count": 37,
      "outputs": [
        {
          "output_type": "execute_result",
          "data": {
            "text/plain": [
              "relative_velocity.kilometers_per_second\n",
              "(0.642, 2.674]       5\n",
              "(2.674, 4.666]      14\n",
              "(4.666, 6.658]      33\n",
              "(6.658, 8.651]      33\n",
              "(8.651, 10.643]     31\n",
              "(10.643, 12.635]    28\n",
              "(12.635, 14.628]    26\n",
              "(14.628, 16.62]     41\n",
              "(16.62, 18.612]     36\n",
              "(18.612, 20.604]    18\n",
              "(20.604, 22.597]    16\n",
              "(22.597, 24.589]     9\n",
              "(24.589, 26.581]    11\n",
              "(26.581, 28.574]     6\n",
              "(28.574, 30.566]    11\n",
              "(30.566, 32.558]     5\n",
              "(32.558, 34.551]     2\n",
              "(34.551, 36.543]     3\n",
              "(36.543, 38.535]     3\n",
              "(38.535, 40.527]     2\n",
              "Name: relative_velocity.kilometers_per_second, dtype: int64"
            ]
          },
          "metadata": {
            "tags": []
          },
          "execution_count": 37
        }
      ]
    },
    {
      "cell_type": "markdown",
      "metadata": {
        "id": "boRfnIliaKjL"
      },
      "source": [
        "faltan:\n",
        "Dataset: 'new_york_times_bestsellers-clean.json' \n",
        "Columnas a graficar: 'price.numberDouble' \n",
        "Dataset: 'melbourne_housing-clean.csv' \n",
        "Columnas a graficar: 'land_size'"
      ]
    },
    {
      "cell_type": "markdown",
      "metadata": {
        "id": "AI50pqwtaMR_"
      },
      "source": [
        "Histogramas"
      ]
    },
    {
      "cell_type": "code",
      "metadata": {
        "id": "ByeSpxbjZUQ9"
      },
      "source": [
        "import numpy as np\n",
        "import seaborn as sns\n",
        "from scipy.stats import skew, kurtosis\n",
        "\n",
        "sns.set(style='white')"
      ],
      "execution_count": 39,
      "outputs": []
    },
    {
      "cell_type": "markdown",
      "metadata": {
        "id": "iEm4AGsVha5O"
      },
      "source": [
        "Distribución normal"
      ]
    },
    {
      "cell_type": "code",
      "metadata": {
        "id": "Y-YxIt0nayHM"
      },
      "source": [
        "normal= np.random.normal(loc=0, scale=5, size=10000) #loc=media, scale=desviación estandar"
      ],
      "execution_count": 53,
      "outputs": []
    },
    {
      "cell_type": "code",
      "metadata": {
        "colab": {
          "base_uri": "https://localhost:8080/",
          "height": 323
        },
        "id": "Ih5zV1CcciTn",
        "outputId": "30fb12c9-3c40-411f-cb55-cbcadddf2bdd"
      },
      "source": [
        "sns.distplot(normal, kde=False, norm_hist=False);"
      ],
      "execution_count": 54,
      "outputs": [
        {
          "output_type": "stream",
          "text": [
            "/usr/local/lib/python3.7/dist-packages/seaborn/distributions.py:2557: FutureWarning: `distplot` is a deprecated function and will be removed in a future version. Please adapt your code to use either `displot` (a figure-level function with similar flexibility) or `histplot` (an axes-level function for histograms).\n",
            "  warnings.warn(msg, FutureWarning)\n"
          ],
          "name": "stderr"
        },
        {
          "output_type": "display_data",
          "data": {
            "image/png": "[encoded data removed]",
            "text/plain": [
              "<Figure size 432x288 with 1 Axes>"
            ]
          },
          "metadata": {
            "tags": []
          }
        }
      ]
    },
    {
      "cell_type": "code",
      "metadata": {
        "colab": {
          "base_uri": "https://localhost:8080/"
        },
        "id": "TfBq2rEzcu2s",
        "outputId": "422ae08e-6f78-40ca-9459-d39c6462a325"
      },
      "source": [
        "print(f'Curtosis: {kurtosis(normal)}')\n",
        "print(f'Asimetria: {skew(normal)}')"
      ],
      "execution_count": 55,
      "outputs": [
        {
          "output_type": "stream",
          "text": [
            "Curtosis: -0.06042836829167797\n",
            "Asimetria: 0.013701368759304966\n"
          ],
          "name": "stdout"
        }
      ]
    },
    {
      "cell_type": "markdown",
      "metadata": {
        "id": "H9MqBavbfup-"
      },
      "source": [
        "Cola corta"
      ]
    },
    {
      "cell_type": "code",
      "metadata": {
        "id": "nve6uGI8dDsX"
      },
      "source": [
        "cola_corta = np.array([2, 2, 3, 3, 3, 3, 3, 3, 4, 4, 4, 4, 4, 4, 4, 4, 5, 5, 5, 5, 5, 5, 5, 5, 6, 6, 6, 6, 6, 6, 6, 7, 7, 7, 7, 7, 8, 8, 8])"
      ],
      "execution_count": 56,
      "outputs": []
    },
    {
      "cell_type": "code",
      "metadata": {
        "colab": {
          "base_uri": "https://localhost:8080/",
          "height": 339
        },
        "id": "YKL3SfFZfKYM",
        "outputId": "02d4cfee-bf86-4276-927a-151196849941"
      },
      "source": [
        "sns.distplot(cola_corta, kde=False, norm_hist=False, bins=7)"
      ],
      "execution_count": 57,
      "outputs": [
        {
          "output_type": "stream",
          "text": [
            "/usr/local/lib/python3.7/dist-packages/seaborn/distributions.py:2557: FutureWarning: `distplot` is a deprecated function and will be removed in a future version. Please adapt your code to use either `displot` (a figure-level function with similar flexibility) or `histplot` (an axes-level function for histograms).\n",
            "  warnings.warn(msg, FutureWarning)\n"
          ],
          "name": "stderr"
        },
        {
          "output_type": "execute_result",
          "data": {
            "text/plain": [
              "<matplotlib.axes._subplots.AxesSubplot at 0x7f6dbef1a950>"
            ]
          },
          "metadata": {
            "tags": []
          },
          "execution_count": 57
        },
        {
          "output_type": "display_data",
          "data": {
            "image/png": "[encoded data removed]",
            "text/plain": [
              "<Figure size 432x288 with 1 Axes>"
            ]
          },
          "metadata": {
            "tags": []
          }
        }
      ]
    },
    {
      "cell_type": "code",
      "metadata": {
        "colab": {
          "base_uri": "https://localhost:8080/"
        },
        "id": "fvbMe_iNfGJp",
        "outputId": "771549ad-7535-4ee8-cbf8-33418e58db8f"
      },
      "source": [
        "print(f'Curtosis: {kurtosis(cola_corta)}')\n",
        "print(f'Asimetria: {skew(cola_corta)}')"
      ],
      "execution_count": 58,
      "outputs": [
        {
          "output_type": "stream",
          "text": [
            "Curtosis: -0.8509615384615383\n",
            "Asimetria: 0.10598753694734905\n"
          ],
          "name": "stdout"
        }
      ]
    },
    {
      "cell_type": "markdown",
      "metadata": {
        "id": "cW_HudLdfwyD"
      },
      "source": [
        "Distribución asimetrica, en este caso es positiva"
      ]
    },
    {
      "cell_type": "code",
      "metadata": {
        "id": "b955h5RLfnfe"
      },
      "source": [
        "asimetria_positiva = np.random.exponential(scale=1.0, size=10000)"
      ],
      "execution_count": 59,
      "outputs": []
    },
    {
      "cell_type": "code",
      "metadata": {
        "colab": {
          "base_uri": "https://localhost:8080/",
          "height": 339
        },
        "id": "ouD-YBvAgIkh",
        "outputId": "85204851-107a-4fd1-ae69-ea41d851e2e8"
      },
      "source": [
        "sns.distplot(asimetria_positiva, kde=False, norm_hist=False)"
      ],
      "execution_count": 60,
      "outputs": [
        {
          "output_type": "stream",
          "text": [
            "/usr/local/lib/python3.7/dist-packages/seaborn/distributions.py:2557: FutureWarning: `distplot` is a deprecated function and will be removed in a future version. Please adapt your code to use either `displot` (a figure-level function with similar flexibility) or `histplot` (an axes-level function for histograms).\n",
            "  warnings.warn(msg, FutureWarning)\n"
          ],
          "name": "stderr"
        },
        {
          "output_type": "execute_result",
          "data": {
            "text/plain": [
              "<matplotlib.axes._subplots.AxesSubplot at 0x7f6dbe3a4410>"
            ]
          },
          "metadata": {
            "tags": []
          },
          "execution_count": 60
        },
        {
          "output_type": "display_data",
          "data": {
            "image/png": "[encoded data removed]",
            "text/plain": [
              "<Figure size 432x288 with 1 Axes>"
            ]
          },
          "metadata": {
            "tags": []
          }
        }
      ]
    },
    {
      "cell_type": "code",
      "metadata": {
        "colab": {
          "base_uri": "https://localhost:8080/"
        },
        "id": "Y_529279gRfy",
        "outputId": "776f39a6-fcdb-4678-a669-b3c05f893fcf"
      },
      "source": [
        "print(f'Curtosis: {kurtosis(asimetria_positiva)}')\n",
        "print(f'Asimetria: {skew(asimetria_positiva)}')"
      ],
      "execution_count": 61,
      "outputs": [
        {
          "output_type": "stream",
          "text": [
            "Curtosis: 5.459486940563506\n",
            "Asimetria: 1.970956335264228\n"
          ],
          "name": "stdout"
        }
      ]
    },
    {
      "cell_type": "markdown",
      "metadata": {
        "id": "VcKgmnWzgfDv"
      },
      "source": [
        "Distribución uniforme"
      ]
    },
    {
      "cell_type": "code",
      "metadata": {
        "id": "sl5TmxCXgVtK"
      },
      "source": [
        "uniform= np.random.uniform(low=-1, high=0, size=10000)"
      ],
      "execution_count": 62,
      "outputs": []
    },
    {
      "cell_type": "code",
      "metadata": {
        "colab": {
          "base_uri": "https://localhost:8080/",
          "height": 339
        },
        "id": "uNXgLjmTg4PC",
        "outputId": "12e561f7-8450-4cd3-c8ff-40cea849e544"
      },
      "source": [
        "sns.distplot(uniform, bins=15, kde=False, norm_hist=False)"
      ],
      "execution_count": 63,
      "outputs": [
        {
          "output_type": "stream",
          "text": [
            "/usr/local/lib/python3.7/dist-packages/seaborn/distributions.py:2557: FutureWarning: `distplot` is a deprecated function and will be removed in a future version. Please adapt your code to use either `displot` (a figure-level function with similar flexibility) or `histplot` (an axes-level function for histograms).\n",
            "  warnings.warn(msg, FutureWarning)\n"
          ],
          "name": "stderr"
        },
        {
          "output_type": "execute_result",
          "data": {
            "text/plain": [
              "<matplotlib.axes._subplots.AxesSubplot at 0x7f6dbe225150>"
            ]
          },
          "metadata": {
            "tags": []
          },
          "execution_count": 63
        },
        {
          "output_type": "display_data",
          "data": {
            "image/png": "[encoded data removed]",
            "text/plain": [
              "<Figure size 432x288 with 1 Axes>"
            ]
          },
          "metadata": {
            "tags": []
          }
        }
      ]
    },
    {
      "cell_type": "code",
      "metadata": {
        "colab": {
          "base_uri": "https://localhost:8080/"
        },
        "id": "di-2BotihFac",
        "outputId": "5b4a15b9-7bc0-40ed-9458-570ab5e652e0"
      },
      "source": [
        "print(f'Curtosis: {kurtosis(uniform)}')\n",
        "print(f'Asimetria: {skew(uniform)}')"
      ],
      "execution_count": 64,
      "outputs": [
        {
          "output_type": "stream",
          "text": [
            "Curtosis: -1.2147717121745312\n",
            "Asimetria: 0.0055088813223877885\n"
          ],
          "name": "stdout"
        }
      ]
    },
    {
      "cell_type": "markdown",
      "metadata": {
        "id": "IIDtYR5Zhg9c"
      },
      "source": [
        "Distribución bimodal"
      ]
    },
    {
      "cell_type": "code",
      "metadata": {
        "id": "Lo85BxxjhKNN"
      },
      "source": [
        "normal_left=np.random.normal(loc=-2.5, scale=1, size=10000)\n",
        "normal_right=np.random.normal(loc=2.5, scale=1, size=10000)\n",
        "bimodal=np.concatenate([normal_left, normal_right])"
      ],
      "execution_count": 65,
      "outputs": []
    },
    {
      "cell_type": "code",
      "metadata": {
        "colab": {
          "base_uri": "https://localhost:8080/",
          "height": 339
        },
        "id": "2SxiRRvMiFPd",
        "outputId": "e13dad27-a7e7-4615-b5ee-887696da1091"
      },
      "source": [
        "sns.distplot(bimodal, kde=False, norm_hist=False)"
      ],
      "execution_count": 66,
      "outputs": [
        {
          "output_type": "stream",
          "text": [
            "/usr/local/lib/python3.7/dist-packages/seaborn/distributions.py:2557: FutureWarning: `distplot` is a deprecated function and will be removed in a future version. Please adapt your code to use either `displot` (a figure-level function with similar flexibility) or `histplot` (an axes-level function for histograms).\n",
            "  warnings.warn(msg, FutureWarning)\n"
          ],
          "name": "stderr"
        },
        {
          "output_type": "execute_result",
          "data": {
            "text/plain": [
              "<matplotlib.axes._subplots.AxesSubplot at 0x7f6dbe1f90d0>"
            ]
          },
          "metadata": {
            "tags": []
          },
          "execution_count": 66
        },
        {
          "output_type": "display_data",
          "data": {
            "image/png": "[encoded data removed]",
            "text/plain": [
              "<Figure size 432x288 with 1 Axes>"
            ]
          },
          "metadata": {
            "tags": []
          }
        }
      ]
    },
    {
      "cell_type": "code",
      "metadata": {
        "colab": {
          "base_uri": "https://localhost:8080/"
        },
        "id": "1FL7rigyiNLD",
        "outputId": "fa8e0b9e-ac36-4911-c56b-0f832e99d8ef"
      },
      "source": [
        "print(f'Curtosis: {kurtosis(bimodal)}')\n",
        "print(f'Asimetria: {skew(bimodal)}')"
      ],
      "execution_count": 67,
      "outputs": [
        {
          "output_type": "stream",
          "text": [
            "Curtosis: -1.4761499819669863\n",
            "Asimetria: -0.00030792392170331045\n"
          ],
          "name": "stdout"
        }
      ]
    },
    {
      "cell_type": "markdown",
      "metadata": {
        "id": "iHW-_wCYivL9"
      },
      "source": [
        "Graficas de densidad"
      ]
    },
    {
      "cell_type": "code",
      "metadata": {
        "id": "JmrVYl9hiQ2L"
      },
      "source": [
        "sns.set(style='whitegrid')"
      ],
      "execution_count": 68,
      "outputs": []
    },
    {
      "cell_type": "code",
      "metadata": {
        "id": "Y6ETxRBmjNrw"
      },
      "source": [
        "laplace = np.random.laplace(loc=0.0, scale=1, size=10000)"
      ],
      "execution_count": 69,
      "outputs": []
    },
    {
      "cell_type": "code",
      "metadata": {
        "colab": {
          "base_uri": "https://localhost:8080/",
          "height": 339
        },
        "id": "oVTOB0fqjUq7",
        "outputId": "f2306b5f-0d3e-4797-861f-906978afdeb6"
      },
      "source": [
        "sns.distplot(laplace, hist=False)"
      ],
      "execution_count": 70,
      "outputs": [
        {
          "output_type": "stream",
          "text": [
            "/usr/local/lib/python3.7/dist-packages/seaborn/distributions.py:2557: FutureWarning: `distplot` is a deprecated function and will be removed in a future version. Please adapt your code to use either `displot` (a figure-level function with similar flexibility) or `kdeplot` (an axes-level function for kernel density plots).\n",
            "  warnings.warn(msg, FutureWarning)\n"
          ],
          "name": "stderr"
        },
        {
          "output_type": "execute_result",
          "data": {
            "text/plain": [
              "<matplotlib.axes._subplots.AxesSubplot at 0x7f6dbe147190>"
            ]
          },
          "metadata": {
            "tags": []
          },
          "execution_count": 70
        },
        {
          "output_type": "display_data",
          "data": {
            "image/png": "[encoded data removed]",
            "text/plain": [
              "<Figure size 432x288 with 1 Axes>"
            ]
          },
          "metadata": {
            "tags": []
          }
        }
      ]
    },
    {
      "cell_type": "code",
      "metadata": {
        "id": "a83dZUHijcPy"
      },
      "source": [
        "chisquare = np.random.chisquare(4, size=10000)"
      ],
      "execution_count": 71,
      "outputs": []
    },
    {
      "cell_type": "code",
      "metadata": {
        "colab": {
          "base_uri": "https://localhost:8080/",
          "height": 339
        },
        "id": "lw50kLZ_jnSI",
        "outputId": "381a0457-e095-4f97-e082-d65e27a4c252"
      },
      "source": [
        "sns.distplot(chisquare, hist=False)"
      ],
      "execution_count": 72,
      "outputs": [
        {
          "output_type": "stream",
          "text": [
            "/usr/local/lib/python3.7/dist-packages/seaborn/distributions.py:2557: FutureWarning: `distplot` is a deprecated function and will be removed in a future version. Please adapt your code to use either `displot` (a figure-level function with similar flexibility) or `kdeplot` (an axes-level function for kernel density plots).\n",
            "  warnings.warn(msg, FutureWarning)\n"
          ],
          "name": "stderr"
        },
        {
          "output_type": "execute_result",
          "data": {
            "text/plain": [
              "<matplotlib.axes._subplots.AxesSubplot at 0x7f6dbe21e110>"
            ]
          },
          "metadata": {
            "tags": []
          },
          "execution_count": 72
        },
        {
          "output_type": "display_data",
          "data": {
            "image/png": "[encoded data removed]",
            "text/plain": [
              "<Figure size 432x288 with 1 Axes>"
            ]
          },
          "metadata": {
            "tags": []
          }
        }
      ]
    },
    {
      "cell_type": "code",
      "metadata": {
        "colab": {
          "base_uri": "https://localhost:8080/",
          "height": 407
        },
        "id": "fiflEgPgjs3O",
        "outputId": "bc25f492-27a2-464f-9283-1285f30f4cb7"
      },
      "source": [
        "normal_1= np.random.normal(loc=-2, scale=3, size=10000)\n",
        "normal_2= np.random.normal(loc=4.5, scale=1, size=10000)\n",
        "exponential= np.random.exponential(scale=1.0, size=10000)\n",
        "\n",
        "sns.distplot(normal_1, hist=False, kde_kws= {'shade': True})\n",
        "sns.distplot(normal_2, hist=False, kde_kws= {'shade': True})\n",
        "sns.distplot(exponential, hist=False, kde_kws= {'shade': True})"
      ],
      "execution_count": 74,
      "outputs": [
        {
          "output_type": "stream",
          "text": [
            "/usr/local/lib/python3.7/dist-packages/seaborn/distributions.py:2557: FutureWarning: `distplot` is a deprecated function and will be removed in a future version. Please adapt your code to use either `displot` (a figure-level function with similar flexibility) or `kdeplot` (an axes-level function for kernel density plots).\n",
            "  warnings.warn(msg, FutureWarning)\n",
            "/usr/local/lib/python3.7/dist-packages/seaborn/distributions.py:2557: FutureWarning: `distplot` is a deprecated function and will be removed in a future version. Please adapt your code to use either `displot` (a figure-level function with similar flexibility) or `kdeplot` (an axes-level function for kernel density plots).\n",
            "  warnings.warn(msg, FutureWarning)\n",
            "/usr/local/lib/python3.7/dist-packages/seaborn/distributions.py:2557: FutureWarning: `distplot` is a deprecated function and will be removed in a future version. Please adapt your code to use either `displot` (a figure-level function with similar flexibility) or `kdeplot` (an axes-level function for kernel density plots).\n",
            "  warnings.warn(msg, FutureWarning)\n"
          ],
          "name": "stderr"
        },
        {
          "output_type": "execute_result",
          "data": {
            "text/plain": [
              "<matplotlib.axes._subplots.AxesSubplot at 0x7f6dbe75aad0>"
            ]
          },
          "metadata": {
            "tags": []
          },
          "execution_count": 74
        },
        {
          "output_type": "display_data",
          "data": {
            "image/png": "[encoded data removed]",
            "text/plain": [
              "<Figure size 432x288 with 1 Axes>"
            ]
          },
          "metadata": {
            "tags": []
          }
        }
      ]
    },
    {
      "cell_type": "code",
      "metadata": {
        "id": "SJyMWDPEkZyd"
      },
      "source": [
        ""
      ],
      "execution_count": null,
      "outputs": []
    }
  ]
}