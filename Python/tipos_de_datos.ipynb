{
 "cells": [
  {
   "cell_type": "markdown",
   "metadata": {},
   "source": [
    "## Ejemplo 4: Tipos de Dato\n",
    "\n",
    "### 1. Objetivos:\n",
    "    - Hablar sobre los 4 tipos de datos básicos que tiene Python\n",
    " \n",
    "---\n",
    "    \n",
    "### 2. Desarrollo:"
   ]
  },
  {
   "cell_type": "markdown",
   "metadata": {},
   "source": [
    "Imprime el tipo de datos de las siguientes variables haciendo uso de las funciones `print()` y `type()`."
   ]
  },
  {
   "cell_type": "code",
   "execution_count": 1,
   "metadata": {},
   "outputs": [
    {
     "name": "stdout",
     "output_type": "stream",
     "text": [
      "<class 'int'>\n",
      "<class 'float'>\n",
      "<class 'str'>\n",
      "<class 'bool'>\n"
     ]
    }
   ],
   "source": [
    "var_a = 4598\n",
    "# tu código aquí\n",
    "print(type(var_a))\n",
    "var_b = 369.432\n",
    "# tu código aquí\n",
    "print(type(var_b))\n",
    "var_c = \"Soy una string\"\n",
    "# tu código aquí\n",
    "print(type(var_c))\n",
    "var_d = True\n",
    "# tu código aquí\n",
    "print(type(var_d))"
   ]
  },
  {
   "cell_type": "markdown",
   "metadata": {},
   "source": [
    "---\n",
    "---\n",
    "## Reto 1: Tipos de datos\n",
    "\n",
    "### 1. Objetivos:\n",
    "    - Aprender a determinar el tipo de datos de una variable\n",
    " \n",
    "---\n",
    "    \n",
    "### 2. Desarrollo:"
   ]
  },
  {
   "cell_type": "markdown",
   "metadata": {},
   "source": [
    "Determina el tipo de datos de las siguientes variables. ¿Podrías predecir el tipo de dato antes de imprimirlo?"
   ]
  },
  {
   "cell_type": "code",
   "execution_count": 7,
   "metadata": {},
   "outputs": [
    {
     "name": "stdout",
     "output_type": "stream",
     "text": [
      "<class 'int'>\n",
      "<class 'float'>\n",
      "<class 'str'>\n",
      "<class 'str'>\n",
      "<class 'int'>\n",
      "<class 'int'>\n"
     ]
    }
   ],
   "source": [
    "var_a = 4598 + 2  # int \n",
    "# tu código aquí\n",
    "print(type(var_a))\n",
    "\n",
    "var_b = 2345 + 1.0  # float\n",
    "# tu código aquí\n",
    "print(type(var_b))\n",
    "\n",
    "var_c = \"Cinco\" * 5  # string\n",
    "# tu código aquí\n",
    "print(type(var_c))\n",
    "\n",
    "var_d = \"5\" * 5  # string\n",
    "# tu código aquí\n",
    "print(type(var_d))\n",
    "\n",
    "var_e = False * 10  # string\n",
    "# tu código aquí\n",
    "print(type(var_e))\n",
    "\n",
    "var_f = int(\"5\") * 5  #int\n",
    "# tu código aquí\n",
    "print(type(var_f))\n"
   ]
  },
  {
   "cell_type": "code",
   "execution_count": null,
   "metadata": {},
   "outputs": [],
   "source": []
  }
 ],
 "metadata": {
  "kernelspec": {
   "display_name": "Python 3",
   "language": "python",
   "name": "python3"
  },
  "language_info": {
   "codemirror_mode": {
    "name": "ipython",
    "version": 3
   },
   "file_extension": ".py",
   "mimetype": "text/x-python",
   "name": "python",
   "nbconvert_exporter": "python",
   "pygments_lexer": "ipython3",
   "version": "3.8.5"
  }
 },
 "nbformat": 4,
 "nbformat_minor": 4
}
