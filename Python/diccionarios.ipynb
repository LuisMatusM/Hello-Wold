{
 "cells": [
  {
   "cell_type": "markdown",
   "metadata": {},
   "source": [
    "## Ejemplo 3: Creando y accesando diccionarios\n",
    "\n",
    "### 1. Objetivos:\n",
    "    - Aprender a crear diccionarios con pares llaves-valor\n",
    "    - Aprender a acceder a los valores guardados en el diccionario\n",
    "    \n",
    "---\n",
    "    \n",
    "### 2. Desarrollo:"
   ]
  },
  {
   "cell_type": "markdown",
   "metadata": {},
   "source": [
    "Los diccionarios se definen usando llaves (`{}`), ahora crea un diccionario que almacene las ventas totales del mes de Enero por $2,000,000.00."
   ]
  },
  {
   "cell_type": "code",
   "execution_count": 1,
   "metadata": {},
   "outputs": [
    {
     "data": {
      "text/plain": [
       "{'Enero': 2000000.0}"
      ]
     },
     "execution_count": 1,
     "metadata": {},
     "output_type": "execute_result"
    }
   ],
   "source": [
    "ventas_1 = {'Enero':2_000_000.00}  # Modifica esta línea\n",
    "ventas_1"
   ]
  },
  {
   "cell_type": "markdown",
   "metadata": {},
   "source": [
    "Nuestras llaves pueden ser tanto `strings` como `ints` (pueden ser otras cosas, pero estos son los más comunes), ahora construye una lista de diccionarios para incluir las ventas de los meses de:\n",
    "\n",
    "- Febrero, \\$350000.00\n",
    "- Marzo, \\$390000.00\n",
    "- Abril, \\$279000.00\n",
    "- Mayo, \\$432000.00\n",
    "\n",
    "adicionales al mes de enero e imprime la lista resultante"
   ]
  },
  {
   "cell_type": "code",
   "execution_count": 3,
   "metadata": {},
   "outputs": [
    {
     "data": {
      "text/plain": [
       "[{'Enero': 2000000.0},\n",
       " {'Febrero': 350000.0},\n",
       " {'Marzo': 390000.0},\n",
       " {'Abril': 279000.0},\n",
       " {'Mayo': 432000.0}]"
      ]
     },
     "execution_count": 3,
     "metadata": {},
     "output_type": "execute_result"
    }
   ],
   "source": [
    "ventas_por_mes = [ventas_1]\n",
    "\n",
    "# tu código aquí\n",
    "ventas_por_mes.append({'Febrero':350_000.00})\n",
    "ventas_por_mes.append({'Marzo':390_000.00})\n",
    "ventas_por_mes.append({'Abril':279_000.00})\n",
    "ventas_por_mes.append({'Mayo':432_000.00})\n",
    "\n",
    "ventas_por_mes\n"
   ]
  },
  {
   "cell_type": "code",
   "execution_count": 4,
   "metadata": {},
   "outputs": [
    {
     "data": {
      "text/plain": [
       "350000.0"
      ]
     },
     "execution_count": 4,
     "metadata": {},
     "output_type": "execute_result"
    }
   ],
   "source": [
    "# imprime la cantidad de ventas del segundo elemento de la lista\n",
    "ventas_por_mes [1]['Febrero']"
   ]
  },
  {
   "cell_type": "markdown",
   "metadata": {},
   "source": [
    "¿Habría alguna otra forma de almacenar estos valores usando sólo un diccionario?"
   ]
  },
  {
   "cell_type": "code",
   "execution_count": 5,
   "metadata": {},
   "outputs": [
    {
     "data": {
      "text/plain": [
       "{'Enero': 2000000.0,\n",
       " 'Febrero': 350000.0,\n",
       " 'Marzo': 390000.0,\n",
       " 'Abril': 279000.0,\n",
       " 'Mayo': 432000.0}"
      ]
     },
     "execution_count": 5,
     "metadata": {},
     "output_type": "execute_result"
    }
   ],
   "source": [
    "# tu código aquí\n",
    "ventas_por_mes ={\n",
    "    'Enero': 2000000.0,\n",
    "    'Febrero': 350000.0,\n",
    "    'Marzo': 390000.0,\n",
    "    'Abril': 279000.0,\n",
    "    'Mayo': 432000.0\n",
    "}\n",
    "ventas_por_mes"
   ]
  },
  {
   "cell_type": "code",
   "execution_count": 6,
   "metadata": {},
   "outputs": [
    {
     "data": {
      "text/plain": [
       "390000.0"
      ]
     },
     "execution_count": 6,
     "metadata": {},
     "output_type": "execute_result"
    }
   ],
   "source": [
    "# imprime la ventas del mes de marzo\n",
    "ventas_por_mes['Marzo']"
   ]
  },
  {
   "cell_type": "markdown",
   "metadata": {},
   "source": [
    "---\n",
    "---\n",
    "## Reto 3: Creando y accesando diccionarios\n",
    "\n",
    "### 1. Objetivos:\n",
    "    - Entender cómo crear diccionarios y cómo acceder a ellos\n",
    " \n",
    "---\n",
    "    \n",
    "### 2. Desarrollo:"
   ]
  },
  {
   "cell_type": "markdown",
   "metadata": {},
   "source": [
    "Debajo hemos definido un diccionario. Este diccionario se encuentra incompleto, aunque no lo parezca:"
   ]
  },
  {
   "cell_type": "code",
   "execution_count": 3,
   "metadata": {},
   "outputs": [],
   "source": [
    "ventas_mensuales = {\n",
    "    \"fecha_de_corte\": \"01/05/2020\",\n",
    "    \"unidad\": \"Aragón\",\n",
    "    'ventas_pasteleria':25_000,\n",
    "    'ganancias_pasteleria': 10_000,\n",
    "    'ventas_panaderia': 50_000,\n",
    "    'ganancias_panaderia': 38_000,\n",
    "    'gastos_mensuales_totales': 17_000,\n",
    "    'analista': 'Luis Matus'\n",
    "    # Tu código va aquí\n",
    "    #...\n",
    "}"
   ]
  },
  {
   "cell_type": "markdown",
   "metadata": {},
   "source": [
    "Debajo tenemos algunos procedimientos que han sido realizados utilizando este diccionario. Como puedes ver, algunos de los accesos que se están haciendo van a fallar porque el diccionario `ventas_mensuales` no está completo:"
   ]
  },
  {
   "cell_type": "code",
   "execution_count": 4,
   "metadata": {},
   "outputs": [
    {
     "name": "stdout",
     "output_type": "stream",
     "text": [
      "==Resumen de ventas mensuales de la unidad Aragón==\n",
      "\n",
      "Fecha de corte: 01/05/2020\n",
      "\n",
      "  - Ventas totales de insumos: 75000\n",
      "  - Ganancias totales: 48000\n",
      "  - Ganancias netas: 31000\n",
      "\n",
      "\n",
      "(Información recabada por: Luis Matus)\n"
     ]
    }
   ],
   "source": [
    "ventas_totales_de_insumos = ventas_mensuales[\"ventas_pasteleria\"] + ventas_mensuales[\"ventas_panaderia\"]\n",
    "ganancias_totales = ventas_mensuales[\"ganancias_pasteleria\"] + ventas_mensuales[\"ganancias_panaderia\"]\n",
    "ganancias_netas = ganancias_totales - ventas_mensuales[\"gastos_mensuales_totales\"]\n",
    "\n",
    "print(f'==Resumen de ventas mensuales de la unidad {ventas_mensuales[\"unidad\"]}==\\n')\n",
    "print(f'Fecha de corte: {ventas_mensuales[\"fecha_de_corte\"]}\\n')\n",
    "print(f'  - Ventas totales de insumos: {ventas_totales_de_insumos}')\n",
    "print(f'  - Ganancias totales: {ganancias_totales}')\n",
    "print(f'  - Ganancias netas: {ganancias_netas}')\n",
    "print(f'\\n')\n",
    "print(f'(Información recabada por: {ventas_mensuales[\"analista\"]})')"
   ]
  },
  {
   "cell_type": "markdown",
   "metadata": {},
   "source": [
    "Completa el diccionario `ventas_mensuales` para que el código que imprime el resumen de las ventas funcione correctamente."
   ]
  },
  {
   "cell_type": "markdown",
   "metadata": {},
   "source": [
    "## Modificando diccionarios\n",
    "\n",
    "### 1. Objetivos:\n",
    "    - Practicar agregar datos, modificar datos y eliminar datos de diccionarios\n",
    " \n",
    "---\n",
    "    \n",
    "### 2. Desarrollo:"
   ]
  },
  {
   "cell_type": "markdown",
   "metadata": {},
   "source": [
    "Debajo tienes un diccionario que contiene algo de información sobre una persona:"
   ]
  },
  {
   "cell_type": "code",
   "execution_count": 17,
   "metadata": {},
   "outputs": [],
   "source": [
    "registro = {\n",
    "    \"id\": \"23f-58j-kju7-54re\",\n",
    "    \"nombre\": \"Alberto\",\n",
    "    \"apellido_materno\": \"Gutierrez\",\n",
    "    \"apellido_paterno\": \"Sosa\",\n",
    "    \"profesion\": \"Contador\",\n",
    "    \"ultimo_nivel_de_estudios\": \"Maestría\",\n",
    "    \"lugar_de_estudios\": \"UAM\",\n",
    "    \"numero_de_cuenta\": \"25367890\",\n",
    "    \"nip_de_cajero\": \"142\",\n",
    "    \n",
    "    # Tu código va aquí\n",
    "    # ...\n",
    "    # ...\n",
    "    \n",
    "}\n",
    "\n"
   ]
  },
  {
   "cell_type": "markdown",
   "metadata": {},
   "source": [
    "Ahora, tenemos una serie de `prints` que imprimen esta información en forma de tabla:"
   ]
  },
  {
   "cell_type": "code",
   "execution_count": 18,
   "metadata": {},
   "outputs": [
    {
     "name": "stdout",
     "output_type": "stream",
     "text": [
      "Registro con id: 23f-58j-kju7-54re\n",
      "\n",
      "---------------------------------------\n",
      "\n",
      "Nombre                    | Alberto                  \n",
      "Apellido Materno          | Gutierrez                \n",
      "Apellido Paterno          | Sosa                     \n",
      "Profesión                 | Contador                 \n",
      "Último nivel de estudios  | Maestría                 \n",
      "Lugar de estudios         | UAM                      \n"
     ]
    },
    {
     "ename": "KeyError",
     "evalue": "'fecha_de_nacimiento'",
     "output_type": "error",
     "traceback": [
      "\u001b[1;31m---------------------------------------------------------------------------\u001b[0m",
      "\u001b[1;31mKeyError\u001b[0m                                  Traceback (most recent call last)",
      "\u001b[1;32m<ipython-input-18-5764b18c4298>\u001b[0m in \u001b[0;36m<module>\u001b[1;34m\u001b[0m\n\u001b[0;32m      7\u001b[0m \u001b[0mprint\u001b[0m\u001b[1;33m(\u001b[0m\u001b[1;34mf'{(\"Último nivel de estudios\"):25} | {registro[\"ultimo_nivel_de_estudios\"]:25}'\u001b[0m\u001b[1;33m)\u001b[0m\u001b[1;33m\u001b[0m\u001b[1;33m\u001b[0m\u001b[0m\n\u001b[0;32m      8\u001b[0m \u001b[0mprint\u001b[0m\u001b[1;33m(\u001b[0m\u001b[1;34mf'{(\"Lugar de estudios\"):25} | {registro[\"lugar_de_estudios\"]:25}'\u001b[0m\u001b[1;33m)\u001b[0m\u001b[1;33m\u001b[0m\u001b[1;33m\u001b[0m\u001b[0m\n\u001b[1;32m----> 9\u001b[1;33m \u001b[0mprint\u001b[0m\u001b[1;33m(\u001b[0m\u001b[1;34mf'{(\"Fecha de nacimiento\"):25} | {registro[\"fecha_de_nacimiento\"]:25}'\u001b[0m\u001b[1;33m)\u001b[0m\u001b[1;33m\u001b[0m\u001b[1;33m\u001b[0m\u001b[0m\n\u001b[0m\u001b[0;32m     10\u001b[0m \u001b[0mprint\u001b[0m\u001b[1;33m(\u001b[0m\u001b[1;34mf'{(\"Lugar de nacimiento\"):25} | {registro[\"lugar_de_nacimiento\"]:25}'\u001b[0m\u001b[1;33m)\u001b[0m\u001b[1;33m\u001b[0m\u001b[1;33m\u001b[0m\u001b[0m\n",
      "\u001b[1;31mKeyError\u001b[0m: 'fecha_de_nacimiento'"
     ]
    }
   ],
   "source": [
    "print(f'Registro con id: {registro[\"id\"]}\\n')\n",
    "print(f'---------------------------------------\\n')\n",
    "print(f'{(\"Nombre\"):25} | {registro[\"nombre\"]:25}')\n",
    "print(f'{(\"Apellido Materno\"):25} | {registro[\"apellido_materno\"]:25}')\n",
    "print(f'{(\"Apellido Paterno\"):25} | {registro[\"apellido_paterno\"]:25}')\n",
    "print(f'{(\"Profesión\"):25} | {registro[\"profesion\"]:25}')\n",
    "print(f'{(\"Último nivel de estudios\"):25} | {registro[\"ultimo_nivel_de_estudios\"]:25}')\n",
    "print(f'{(\"Lugar de estudios\"):25} | {registro[\"lugar_de_estudios\"]:25}')\n",
    "print(f'{(\"Fecha de nacimiento\"):25} | {registro[\"fecha_de_nacimiento\"]:25}')\n",
    "print(f'{(\"Lugar de nacimiento\"):25} | {registro[\"lugar_de_nacimiento\"]:25}')"
   ]
  },
  {
   "cell_type": "markdown",
   "metadata": {},
   "source": [
    "La actividad tienen 3 partes:\n",
    "\n",
    "1. Usando la técnica para modificar valores en un diccionario, cambia la información del diccionario para que sea la tuya.\n",
    "2. Usando la técnica para agregar datos al diccionario agrega las llaves que estén siendo accesadas en el `print` pero que no han sido agregadas al diccionario.\n",
    "3. Usando la técnica para eliminar datos del diccionario, elimina los datos sensibles que no quieras que estén incluidos en el diccionario.\n"
   ]
  },
  {
   "cell_type": "code",
   "execution_count": 19,
   "metadata": {},
   "outputs": [
    {
     "name": "stdout",
     "output_type": "stream",
     "text": [
      "Registro con id: LAMM900908\n",
      "\n",
      "---------------------------------------\n",
      "\n",
      "Nombre                    | Luis Angel               \n",
      "Apellido Materno          | Moreno                   \n",
      "Apellido Paterno          | Matus                    \n",
      "Profesión                 | Ingeniero Mecánico       \n",
      "Último nivel de estudios  | Licenciatura             \n",
      "Lugar de estudios         | IPN                      \n",
      "Fecha de nacimiento       | 05/01/1990               \n",
      "Lugar de nacimiento       | Cuauhtémoc,CDMX          \n"
     ]
    }
   ],
   "source": [
    "registro[\"id\"] = \"LAMM900908\"\n",
    "registro['nombre'] = \"Luis Angel\"\n",
    "registro[\"apellido_materno\"]= \"Moreno\"\n",
    "registro[\"apellido_paterno\"]= \"Matus\"\n",
    "registro[\"profesion\"]= \"Ingeniero Mecánico\"\n",
    "registro[\"ultimo_nivel_de_estudios\"]= \"Licenciatura\"\n",
    "registro[\"lugar_de_estudios\"]= \"IPN\"\n",
    "registro[\"numero_de_cuenta\"]= \"35167890\"\n",
    "registro[\"nip_de_cajero\"]= \"132\"\n",
    "registro['fecha_de_nacimiento']='05/01/1990'\n",
    "registro['lugar_de_nacimiento']= 'Cuauhtémoc,CDMX'\n",
    "\n",
    "print(f'Registro con id: {registro[\"id\"]}\\n')\n",
    "print(f'---------------------------------------\\n')\n",
    "print(f'{(\"Nombre\"):25} | {registro[\"nombre\"]:25}')\n",
    "print(f'{(\"Apellido Materno\"):25} | {registro[\"apellido_materno\"]:25}')\n",
    "print(f'{(\"Apellido Paterno\"):25} | {registro[\"apellido_paterno\"]:25}')\n",
    "print(f'{(\"Profesión\"):25} | {registro[\"profesion\"]:25}')\n",
    "print(f'{(\"Último nivel de estudios\"):25} | {registro[\"ultimo_nivel_de_estudios\"]:25}')\n",
    "print(f'{(\"Lugar de estudios\"):25} | {registro[\"lugar_de_estudios\"]:25}')\n",
    "print(f'{(\"Fecha de nacimiento\"):25} | {registro[\"fecha_de_nacimiento\"]:25}')\n",
    "print(f'{(\"Lugar de nacimiento\"):25} | {registro[\"lugar_de_nacimiento\"]:25}')"
   ]
  },
  {
   "cell_type": "code",
   "execution_count": 42,
   "metadata": {},
   "outputs": [
    {
     "ename": "KeyError",
     "evalue": "'nip_de_cajero'",
     "output_type": "error",
     "traceback": [
      "\u001b[1;31m---------------------------------------------------------------------------\u001b[0m",
      "\u001b[1;31mKeyError\u001b[0m                                  Traceback (most recent call last)",
      "\u001b[1;32m<ipython-input-42-f16ab38f6e71>\u001b[0m in \u001b[0;36m<module>\u001b[1;34m\u001b[0m\n\u001b[1;32m----> 1\u001b[1;33m \u001b[1;32mdel\u001b[0m \u001b[0mregistro\u001b[0m\u001b[1;33m[\u001b[0m\u001b[1;34m'nip_de_cajero'\u001b[0m\u001b[1;33m]\u001b[0m\u001b[1;33m\u001b[0m\u001b[1;33m\u001b[0m\u001b[0m\n\u001b[0m",
      "\u001b[1;31mKeyError\u001b[0m: 'nip_de_cajero'"
     ]
    }
   ],
   "source": [
    "del registro['nip_de_cajero']"
   ]
  },
  {
   "cell_type": "code",
   "execution_count": 37,
   "metadata": {},
   "outputs": [],
   "source": [
    "del(registro['numero_de_cuenta'])"
   ]
  },
  {
   "cell_type": "code",
   "execution_count": 38,
   "metadata": {},
   "outputs": [
    {
     "ename": "KeyError",
     "evalue": "'id'",
     "output_type": "error",
     "traceback": [
      "\u001b[1;31m---------------------------------------------------------------------------\u001b[0m",
      "\u001b[1;31mKeyError\u001b[0m                                  Traceback (most recent call last)",
      "\u001b[1;32m<ipython-input-38-8fa523e241c8>\u001b[0m in \u001b[0;36m<module>\u001b[1;34m\u001b[0m\n\u001b[1;32m----> 1\u001b[1;33m \u001b[1;32mdel\u001b[0m\u001b[1;33m(\u001b[0m\u001b[0mregistro\u001b[0m\u001b[1;33m[\u001b[0m\u001b[1;34m'id'\u001b[0m\u001b[1;33m]\u001b[0m\u001b[1;33m)\u001b[0m\u001b[1;33m\u001b[0m\u001b[1;33m\u001b[0m\u001b[0m\n\u001b[0m",
      "\u001b[1;31mKeyError\u001b[0m: 'id'"
     ]
    }
   ],
   "source": [
    "del(registro['id'])"
   ]
  },
  {
   "cell_type": "code",
   "execution_count": 41,
   "metadata": {},
   "outputs": [
    {
     "data": {
      "text/plain": [
       "{'nombre': 'Luis Angel',\n",
       " 'apellido_materno': 'Moreno',\n",
       " 'apellido_paterno': 'Matus',\n",
       " 'profesion': 'Ingeniero Mecánico',\n",
       " 'ultimo_nivel_de_estudios': 'Licenciatura',\n",
       " 'lugar_de_estudios': 'IPN',\n",
       " 'fecha_de_nacimiento': '05/01/1990',\n",
       " 'lugar_de_nacimiento': 'Cuauhtémoc,CDMX'}"
      ]
     },
     "execution_count": 41,
     "metadata": {},
     "output_type": "execute_result"
    }
   ],
   "source": [
    "registro"
   ]
  },
  {
   "cell_type": "code",
   "execution_count": null,
   "metadata": {},
   "outputs": [],
   "source": []
  }
 ],
 "metadata": {
  "kernelspec": {
   "display_name": "Python 3",
   "language": "python",
   "name": "python3"
  },
  "language_info": {
   "codemirror_mode": {
    "name": "ipython",
    "version": 3
   },
   "file_extension": ".py",
   "mimetype": "text/x-python",
   "name": "python",
   "nbconvert_exporter": "python",
   "pygments_lexer": "ipython3",
   "version": "3.8.5"
  }
 },
 "nbformat": 4,
 "nbformat_minor": 4
}
