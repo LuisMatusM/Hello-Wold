{
 "cells": [
  {
   "cell_type": "markdown",
   "metadata": {},
   "source": [
    "## Ejemplo 3: Excepciones y try except\n",
    "\n",
    "### 1. Objetivos:\n",
    "    - Aprender a usar try except para evitar que las excepciones detengan nuestros programas\n",
    " \n",
    "---\n",
    "    \n",
    "### 2. Desarrollo:"
   ]
  },
  {
   "cell_type": "markdown",
   "metadata": {},
   "source": [
    "Durante el proceso de un programa pueden suceder diferentes tipos de errores, que llamamos `Excepciones`. Una `Excepción` puede suceder en alguno de estos casos, por ejemplo:"
   ]
  },
  {
   "cell_type": "code",
   "execution_count": 1,
   "metadata": {},
   "outputs": [
    {
     "ename": "IndexError",
     "evalue": "list index out of range",
     "output_type": "error",
     "traceback": [
      "\u001b[1;31m---------------------------------------------------------------------------\u001b[0m",
      "\u001b[1;31mIndexError\u001b[0m                                Traceback (most recent call last)",
      "\u001b[1;32m<ipython-input-1-2af2fb309ce5>\u001b[0m in \u001b[0;36m<module>\u001b[1;34m\u001b[0m\n\u001b[0;32m      1\u001b[0m \u001b[0mlista_1\u001b[0m \u001b[1;33m=\u001b[0m \u001b[1;33m[\u001b[0m\u001b[1;36m1\u001b[0m\u001b[1;33m,\u001b[0m \u001b[1;36m2\u001b[0m\u001b[1;33m,\u001b[0m \u001b[1;36m3\u001b[0m\u001b[1;33m,\u001b[0m \u001b[1;36m4\u001b[0m\u001b[1;33m,\u001b[0m \u001b[1;36m5\u001b[0m\u001b[1;33m]\u001b[0m\u001b[1;33m\u001b[0m\u001b[1;33m\u001b[0m\u001b[0m\n\u001b[1;32m----> 2\u001b[1;33m \u001b[0mlista_1\u001b[0m\u001b[1;33m[\u001b[0m\u001b[1;36m5\u001b[0m\u001b[1;33m]\u001b[0m\u001b[1;33m\u001b[0m\u001b[1;33m\u001b[0m\u001b[0m\n\u001b[0m",
      "\u001b[1;31mIndexError\u001b[0m: list index out of range"
     ]
    }
   ],
   "source": [
    "lista_1 = [1, 2, 3, 4, 5]\n",
    "lista_1[5]"
   ]
  },
  {
   "cell_type": "code",
   "execution_count": 2,
   "metadata": {},
   "outputs": [
    {
     "ename": "KeyError",
     "evalue": "'m'",
     "output_type": "error",
     "traceback": [
      "\u001b[1;31m---------------------------------------------------------------------------\u001b[0m",
      "\u001b[1;31mKeyError\u001b[0m                                  Traceback (most recent call last)",
      "\u001b[1;32m<ipython-input-2-c418dae0cf5d>\u001b[0m in \u001b[0;36m<module>\u001b[1;34m\u001b[0m\n\u001b[0;32m      6\u001b[0m }\n\u001b[0;32m      7\u001b[0m \u001b[1;33m\u001b[0m\u001b[0m\n\u001b[1;32m----> 8\u001b[1;33m \u001b[0mdict_1\u001b[0m\u001b[1;33m[\u001b[0m\u001b[1;34m\"m\"\u001b[0m\u001b[1;33m]\u001b[0m\u001b[1;33m\u001b[0m\u001b[1;33m\u001b[0m\u001b[0m\n\u001b[0m",
      "\u001b[1;31mKeyError\u001b[0m: 'm'"
     ]
    }
   ],
   "source": [
    "dict_1 = {\n",
    "    'a': 1,\n",
    "    'b': 2,\n",
    "    'c': 3,\n",
    "    'd': 4\n",
    "}\n",
    "\n",
    "dict_1[\"m\"]"
   ]
  },
  {
   "cell_type": "code",
   "execution_count": 3,
   "metadata": {},
   "outputs": [
    {
     "ename": "ValueError",
     "evalue": "invalid literal for int() with base 10: 'ninguno'",
     "output_type": "error",
     "traceback": [
      "\u001b[1;31m---------------------------------------------------------------------------\u001b[0m",
      "\u001b[1;31mValueError\u001b[0m                                Traceback (most recent call last)",
      "\u001b[1;32m<ipython-input-3-4ba069ed6e91>\u001b[0m in \u001b[0;36m<module>\u001b[1;34m\u001b[0m\n\u001b[0;32m      1\u001b[0m \u001b[1;31m# crean una excepción al convertir una cadena a entero\u001b[0m\u001b[1;33m\u001b[0m\u001b[1;33m\u001b[0m\u001b[1;33m\u001b[0m\u001b[0m\n\u001b[1;32m----> 2\u001b[1;33m \u001b[0mint\u001b[0m\u001b[1;33m(\u001b[0m\u001b[1;34m\"ninguno\"\u001b[0m\u001b[1;33m)\u001b[0m\u001b[1;33m\u001b[0m\u001b[1;33m\u001b[0m\u001b[0m\n\u001b[0m",
      "\u001b[1;31mValueError\u001b[0m: invalid literal for int() with base 10: 'ninguno'"
     ]
    }
   ],
   "source": [
    "# crean una excepción al convertir una cadena a entero\n",
    "int(\"ninguno\")"
   ]
  },
  {
   "cell_type": "code",
   "execution_count": 4,
   "metadata": {},
   "outputs": [
    {
     "ename": "ValueError",
     "evalue": "could not convert string to float: 'cero'",
     "output_type": "error",
     "traceback": [
      "\u001b[1;31m---------------------------------------------------------------------------\u001b[0m",
      "\u001b[1;31mValueError\u001b[0m                                Traceback (most recent call last)",
      "\u001b[1;32m<ipython-input-4-73eb84574f01>\u001b[0m in \u001b[0;36m<module>\u001b[1;34m\u001b[0m\n\u001b[1;32m----> 1\u001b[1;33m \u001b[0mfloat\u001b[0m\u001b[1;33m(\u001b[0m\u001b[1;34m\"cero\"\u001b[0m\u001b[1;33m)\u001b[0m\u001b[1;33m\u001b[0m\u001b[1;33m\u001b[0m\u001b[0m\n\u001b[0m",
      "\u001b[1;31mValueError\u001b[0m: could not convert string to float: 'cero'"
     ]
    }
   ],
   "source": [
    "float(\"cero\")"
   ]
  },
  {
   "cell_type": "markdown",
   "metadata": {},
   "source": [
    "Cuando automatizamos programas, tenemos que evitar que Excepciones ocurran, pues detendrían nuestro programa y arruinarían nuestra automatización. Podemos usar estructuras try except para evitar que esto suceda:"
   ]
  },
  {
   "cell_type": "code",
   "execution_count": 5,
   "metadata": {},
   "outputs": [
    {
     "name": "stdout",
     "output_type": "stream",
     "text": [
      "El índice mencionado está fuera de rango\n",
      "Fin\n"
     ]
    }
   ],
   "source": [
    "lista_1 = [1, 2, 3, 4, 5]\n",
    "\n",
    "# usar try para manejar la excepción\n",
    "try:\n",
    "    print(lista_1[5])\n",
    "except IndexError:\n",
    "    print('El índice mencionado está fuera de rango')\n",
    "print('Fin')"
   ]
  },
  {
   "cell_type": "code",
   "execution_count": 6,
   "metadata": {},
   "outputs": [
    {
     "name": "stdout",
     "output_type": "stream",
     "text": [
      "La llave no está en el diccionario\n",
      "fin\n"
     ]
    }
   ],
   "source": [
    "dict_2 = {\n",
    "    'a': 1,\n",
    "    'b': 2,\n",
    "    'c': 3,\n",
    "    'd': 4\n",
    "}\n",
    "\n",
    "# usar try para manejar la excepción\n",
    "try:\n",
    "    print(dict_2[\"e\"])\n",
    "except KeyError:\n",
    "    print('La llave no está en el diccionario')\n",
    "print('fin')"
   ]
  },
  {
   "cell_type": "code",
   "execution_count": 8,
   "metadata": {},
   "outputs": [
    {
     "name": "stdout",
     "output_type": "stream",
     "text": [
      "nan\n"
     ]
    }
   ],
   "source": [
    "# Usar try para manejar la excepción al convertir\n",
    "# la cadena a entero. Se pueden usar un valor NaN\n",
    "# como valor en caso de error.\n",
    "import numpy as np\n",
    "\n",
    "try:\n",
    "    print(int(\"5..0\"))\n",
    "except ValueError:\n",
    "    print(np.nan)"
   ]
  },
  {
   "cell_type": "code",
   "execution_count": 10,
   "metadata": {},
   "outputs": [
    {
     "name": "stdout",
     "output_type": "stream",
     "text": [
      "1\n",
      "2\n",
      "El valor 3. no se puedeo convertir a entero\n",
      "4\n"
     ]
    }
   ],
   "source": [
    "# convierte la lista de cadenas (strings) a enteros\n",
    "# impide que el programa se detenga usando try y\n",
    "# muestra un mensaje de error en caso de que un\n",
    "# valor no pueda ser convertido.\n",
    "\n",
    "valores = [\"1\", \"2\", \"3.\", \"4\"]\n",
    "for x in valores:\n",
    "    try:\n",
    "        print(int(x))\n",
    "    except ValueError:\n",
    "        print(f'El valor {x} no se puedeo convertir a entero')"
   ]
  },
  {
   "cell_type": "markdown",
   "metadata": {},
   "source": [
    "---\n",
    "---"
   ]
  },
  {
   "cell_type": "markdown",
   "metadata": {},
   "source": [
    "## Reto 3: Evitando errores con try except\n",
    "\n",
    "### 1. Objetivos:\n",
    "    - Usar una estructura try except para evitar que una función lance un error\n",
    " \n",
    "---\n",
    "    \n",
    "### 2. Desarrollo:"
   ]
  },
  {
   "cell_type": "markdown",
   "metadata": {},
   "source": [
    "### a) Evitando errores al hacer conversión de tipos de dato\n",
    "\n",
    "La conversión de tipos de dato (data casting) es una de las labores más importantes de un procesador de datos. A veces tenemos datos que deberían de tener un tipo de dato pero que tienen otro. Vamos a imaginar que tenemos un sistema donde recibimos input de un usuario. Este input son números que están representados como strings, como por ejemplo:\n",
    "\n",
    "- \"1.5\"\n",
    "- \"4\"\n",
    "- \"100.23\"\n",
    "- \"134.99\"\n",
    "\n",
    "Nosotros queremos guardar esos datos como `float`, no como `string` y por lo tanto vamos a crear una función que convierta una `lista` de `strings` en una `lista` de `float`. El problema es que a veces, el usuario envía inputs que no son números representados como `strings`, sino otro tipo de caracteres, como:\n",
    "\n",
    "- \"a\"\n",
    "- \"fgwe\"\n",
    "- \"4r5t\"\n",
    "- \"#!\"\n",
    "\n",
    "Esos caracteres no los podemos convertir en `float` y por lo tanto vamos a sustituirlos por un `NaN` de `numpy` (`np.nan`). Tu reto es el siguiente:\n",
    "\n",
    "1. Completa la función debajo que recibe una `lista` de `strings` y regresa una `lista` de `floats`.\n",
    "2. Usa un `cilos for` para iterar por la `lista` de `strings` y convertir uno por uno los valores a `float` (puedes leer cómo hacer eso [aquí](http://lineadecodigo.com/python/iterar-una-lista-en-python/) y [aquí](https://es.stackoverflow.com/questions/49194/c%C3%B3mo-convertir-un-tipo-string-a-float-o-int))\n",
    "3. Los resultados de la conversión guárdalos en la lista `lista_de_floats` que es lo que regresa la función.\n",
    "4. Agrega una estructura `try except` para evitar errores cuando la conversión no sea posible y agregar un `np.nan` a `lista_de_floats` en caso de que la conversión haya fallado."
   ]
  },
  {
   "cell_type": "code",
   "execution_count": 7,
   "metadata": {},
   "outputs": [],
   "source": [
    "def str_a_float(lista_de_strings):\n",
    "    import numpy as np\n",
    "    lista_de_floats = []\n",
    "    for k in lista_de_strings:\n",
    "        try:\n",
    "            lista_de_floats.append(float(k))\n",
    "        except ValueError:\n",
    "            lista_de_floats.append(np.nan)\n",
    "    # 1. recorrer la lista de string (for)\n",
    "    # 2. para cada valor convertirlo a float\n",
    "    # 3. agregar el valor convertido a la nueva lista\n",
    "    # 4. si hay falla entonces agregar el valor np.nan\n",
    "        \n",
    "    return lista_de_floats"
   ]
  },
  {
   "cell_type": "markdown",
   "metadata": {},
   "source": [
    "Ejecuta la siguiente celda para obtener la lista de números sin que aparezca un error o excepción."
   ]
  },
  {
   "cell_type": "code",
   "execution_count": 8,
   "metadata": {},
   "outputs": [
    {
     "data": {
      "text/plain": [
       "[1.0,\n",
       " 2.0,\n",
       " 3.0,\n",
       " 4.0,\n",
       " 5.0,\n",
       " 1.2,\n",
       " 33.0,\n",
       " 55.5,\n",
       " nan,\n",
       " 78.0,\n",
       " nan,\n",
       " nan,\n",
       " nan,\n",
       " nan,\n",
       " nan,\n",
       " nan,\n",
       " 4.4,\n",
       " nan,\n",
       " 6.6,\n",
       " nan,\n",
       " 9.9]"
      ]
     },
     "execution_count": 8,
     "metadata": {},
     "output_type": "execute_result"
    }
   ],
   "source": [
    "strings = ['1', '2', '3', '4', '5',\n",
    "    '1.2', '33', '55.5', 'f', '78',\n",
    "    'f', 'g', 't', 'e', 'r', 'f',\n",
    "    '4.4', 't', '6.6', 'r', '9.9']\n",
    "\n",
    "floats = str_a_float(strings)\n",
    "floats"
   ]
  },
  {
   "cell_type": "code",
   "execution_count": null,
   "metadata": {},
   "outputs": [],
   "source": []
  },
  {
   "cell_type": "code",
   "execution_count": null,
   "metadata": {},
   "outputs": [],
   "source": []
  }
 ],
 "metadata": {
  "kernelspec": {
   "display_name": "Python 3",
   "language": "python",
   "name": "python3"
  },
  "language_info": {
   "codemirror_mode": {
    "name": "ipython",
    "version": 3
   },
   "file_extension": ".py",
   "mimetype": "text/x-python",
   "name": "python",
   "nbconvert_exporter": "python",
   "pygments_lexer": "ipython3",
   "version": "3.8.5"
  }
 },
 "nbformat": 4,
 "nbformat_minor": 4
}
