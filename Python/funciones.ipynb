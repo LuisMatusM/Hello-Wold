{
 "cells": [
  {
   "cell_type": "markdown",
   "metadata": {},
   "source": [
    "## Ejemplo 4: Funciones\n",
    "\n",
    "### 1. Objetivos:\n",
    "    - Entender la sintaxis de las funciones\n",
    "    - Aprender cómo pasarle parámetros a las funciones\n",
    "    - Entender cómo aprovechar los valores que regresa el `return`\n",
    "    - Entender el concepto de `contexto` y cómo las variables definidas dentro de la función sólo pueden ser accedidas dentro de la función\n",
    " \n",
    "---\n",
    "    \n",
    "### 2. Desarrollo:"
   ]
  },
  {
   "cell_type": "markdown",
   "metadata": {},
   "source": [
    "Queremos hacer funciones porque queremos evitar repetir código en nuestro programa. En vez de escribir 10 veces el mismo proceso en diferentes lugares de nuestro código, podemos escribir una función que contenga ese proceso y simplemente usarla en los 10 lugares donde suceda ese proceso."
   ]
  },
  {
   "cell_type": "markdown",
   "metadata": {},
   "source": [
    "Escribir una función para calcular el área del círculo y otra función para imprimir el área del círculo incluyendo las unidades."
   ]
  },
  {
   "cell_type": "code",
   "execution_count": 1,
   "metadata": {},
   "outputs": [
    {
     "data": {
      "text/plain": [
       "7853.974999999999"
      ]
     },
     "execution_count": 1,
     "metadata": {},
     "output_type": "execute_result"
    }
   ],
   "source": [
    "# funcion para calcular área de un círculo\n",
    "\n",
    "def area_circulo (r):\n",
    "    '''Cálcula el área de un circulo de radio r'''\n",
    "    PI = 3.14159\n",
    "    calculo = PI * r**2\n",
    "    return calculo\n",
    "\n",
    "\n",
    "area = area_circulo(50)  # regresa un valor\n",
    "area"
   ]
  },
  {
   "cell_type": "code",
   "execution_count": 2,
   "metadata": {},
   "outputs": [
    {
     "name": "stdout",
     "output_type": "stream",
     "text": [
      "El área del círculo es: 7853.97 m^2\n"
     ]
    }
   ],
   "source": [
    "# función para imprimir área de un circulo\n",
    "def imprimir_area (area):\n",
    "    ''' Imprime el valor del área en metros '''\n",
    "    print(f'El área del círculo es: {area:.2f} m^2') # en el {área} esa forma delimita los float a 2 decimales\n",
    "    \n",
    "imprimir_area(area)"
   ]
  },
  {
   "cell_type": "code",
   "execution_count": 3,
   "metadata": {},
   "outputs": [
    {
     "name": "stdout",
     "output_type": "stream",
     "text": [
      "El área del círculo es: 31415.90 m^2\n"
     ]
    }
   ],
   "source": [
    "circulo_1 = area_circulo(100)\n",
    "imprimir_area(circulo_1)"
   ]
  },
  {
   "cell_type": "markdown",
   "metadata": {},
   "source": [
    "Es muy importante notar lo siguiente:\n",
    "\n",
    "1. La declaración comienza con la palabra `def`.\n",
    "2. El nombre de la función sigue las mismas convenciones de nombramiento que las variables (snake_case).\n",
    "3. Los `parámetros` de la función van dentro del paréntesis.\n",
    "4. Hay unos `dos puntos (:)` después del paréntesis que indican el inicio del bloque de la función\n",
    "5. El bloque de la función (todos los procesos que se van a llevar a cabo cuando llamemos la función) deben de estar indentados. Lo que está indentado es parte de la función. En cuanto hay una línea que no esté indentada, eso indica que la definición de la función ha terminado.\n",
    "6. Las funciones tienen una sentencia `return` que regresa el resultado de nuestro proceso para que pueda ser utilizado en otras partes de nuestro programa."
   ]
  },
  {
   "cell_type": "markdown",
   "metadata": {},
   "source": [
    "#### Return\n",
    "\n",
    "Todas las funciones que hemos definido hasta ahora tienen al final una sentencia `return`. `return` regresa el valor que escribimos a su derecha, que normalmente es el resultado del proceso que hemos realizado dentro de la función.\n",
    "\n",
    "Si no hubiera `return`, los procesos que suceden dentro de nuestras funciones se quedarían ahí y no podríamos acceder a los resultados. Eso no sería muy útil que digamos, ¿no es así?\n",
    "\n",
    "El valor que regresa nuestro `return` lo podemos guardar en otra variable para usarlo en el futuro o podemos imprimirlo directamente usando un `print` (aunque es recomendable mejor primero asignarlo a una variable y después imprimir la variable):"
   ]
  },
  {
   "cell_type": "markdown",
   "metadata": {},
   "source": [
    "---\n",
    "---\n",
    "## Reto 5: Funciones\n",
    "\n",
    "### 1. Objetivos:\n",
    "    - Practicar la declaración de funciones\n",
    "    - Practicar la definición de parámetros y su uso dentro de la función\n",
    "    - Practicar el uso de los valores retornados por una función\n",
    "    - Practicar el uso de funciones para evitar la repetición de código\n",
    " \n",
    "---\n",
    "    \n",
    "### 2. Desarrollo:"
   ]
  },
  {
   "cell_type": "markdown",
   "metadata": {},
   "source": [
    "#### a) Función `numero_es_par`\n",
    "\n",
    "Debajo tienes una función incompleta:"
   ]
  },
  {
   "cell_type": "code",
   "execution_count": 50,
   "metadata": {},
   "outputs": [],
   "source": [
    "def numero_es_par(numero):\n",
    "    if numero %2 == 0:\n",
    "        resultado = True\n",
    "    else:\n",
    "        resultado = False\n",
    "    return resultado\n",
    "    \n",
    "    # Tu código para determinar si la\n",
    "    # variable numero es par va aquí\n",
    "    # ...\n",
    "\n",
    "# el valor regresado por la función va aquí"
   ]
  },
  {
   "cell_type": "markdown",
   "metadata": {},
   "source": [
    "Dicha función debería de tomar un parámetro `numero`, checar si el número es par, regresar `True` si el número es par y regresar `False` si el número no es par.\n",
    "\n",
    "Completa la función para que el código de abajo (que realiza `tests` de la función) regrese todos los `resultados esperados`.\n",
    "\n",
    "> **Pista**: Si no conoces el operador `módulo` (`%`), pídele al experto que explique su funcionamiento.\n",
    "\n",
    "> **PD**: Si no entiendes la función test_funcion no te preocupes, por el momento sólo está ahí para probar tu código y que sepas si tu función funciona correctamente."
   ]
  },
  {
   "cell_type": "code",
   "execution_count": 51,
   "metadata": {},
   "outputs": [
    {
     "name": "stdout",
     "output_type": "stream",
     "text": [
      "True\n",
      "False\n",
      "False\n",
      "True\n"
     ]
    }
   ],
   "source": [
    "print(numero_es_par(2))  # True\n",
    "print(numero_es_par(5))  # False\n",
    "print(numero_es_par(113))  # False\n",
    "print(numero_es_par(11112))  # True"
   ]
  },
  {
   "cell_type": "markdown",
   "metadata": {},
   "source": [
    "#### b) Reutilización de código\n",
    "\n",
    "Debajo tenemos algo de código."
   ]
  },
  {
   "cell_type": "code",
   "execution_count": 53,
   "metadata": {},
   "outputs": [
    {
     "name": "stdout",
     "output_type": "stream",
     "text": [
      "34 es el 34.0% del número 100\n",
      "\n",
      "57 es el 44.881889763779526% del número 127\n",
      "\n",
      "12 es el 5.2631578947368425% del número 228\n",
      "\n",
      "87 es el 96.66666666666667% del número 90\n",
      "\n",
      "1 es el 0.1001001001001001% del número 999\n",
      "\n",
      "66 es el 100.0% del número 66\n",
      "\n"
     ]
    }
   ],
   "source": [
    "resultado_1 = 34 * 100 / 100\n",
    "print(f'34 es el {resultado_1}% del número 100\\n')\n",
    "\n",
    "resultado_2 = 57 * 100 / 127\n",
    "print(f'57 es el {resultado_2}% del número 127\\n')\n",
    "\n",
    "resultado_3 = 12 * 100 / 228\n",
    "print(f'12 es el {resultado_3}% del número 228\\n')\n",
    "\n",
    "resultado_4 = 87 * 100 / 90\n",
    "print(f'87 es el {resultado_4}% del número 90\\n')\n",
    "\n",
    "resultado_5 = 1 * 100 / 999\n",
    "print(f'1 es el {resultado_5}% del número 999\\n')\n",
    "\n",
    "resultado_6 = 66 * 100 / 66\n",
    "print(f'66 es el {resultado_6}% del número 66\\n')"
   ]
  },
  {
   "cell_type": "markdown",
   "metadata": {},
   "source": [
    "Este código funciona correctamente, pero como puedes ver, estamos escribiendo el mismo código una y otra vez. En la celda debajo, escribe una función que realice la operación matemática que estamos realizando arriba, para que podamos reusarla múltiples veces para obtener los resultados que queremos. Llena también los `prints` de manera que podamos leer el resultado en un formato comprensible.\n",
    "\n",
    "> Reto extra: Si quieres un reto extra, escribe también una función que genere las strings que vamos a pasar a los `prints`, para no tener que escribirlas desde 0 cada vez."
   ]
  },
  {
   "cell_type": "code",
   "execution_count": 61,
   "metadata": {},
   "outputs": [
    {
     "name": "stdout",
     "output_type": "stream",
     "text": [
      " 34 es el 34.0% del numero 100\n",
      " 57 es el 44.881889763779526% del numero 127\n",
      " 12 es el 5.2631578947368425% del numero 228\n",
      " 87 es el 96.66666666666667% del numero 90\n",
      " 1 es el 0.1001001001001001% del numero 999\n",
      " 66 es el 66.0% del numero 100\n"
     ]
    }
   ],
   "source": [
    "## Tu función va aquí\n",
    "# ...\n",
    "# ...\n",
    "def porcientos(numero,divisor):\n",
    "    return numero * 100 / divisor\n",
    "def respuesta(numero, resultado, divisor):\n",
    "    return f' {numero} es el {resultado}% del numero {divisor}'\n",
    "\n",
    "resultado_1 = porcientos(34,100)\n",
    "print(respuesta(34, resultado_1, 100))\n",
    "\n",
    "resultado_2 = porcientos(57,127)\n",
    "print(respuesta(57, resultado_2, 127))\n",
    "\n",
    "resultado_3 = porcientos(12,228)\n",
    "print(respuesta(12, resultado_3, 228))\n",
    "\n",
    "resultado_4 = porcientos(87,90)\n",
    "print(respuesta(87, resultado_4,90))\n",
    "\n",
    "resultado_5 = porcientos(1,999)\n",
    "print(respuesta(1, resultado_5, 999))\n",
    "\n",
    "resultado_6 = porcientos(66,100)\n",
    "print(respuesta(66, resultado_6, 100))"
   ]
  },
  {
   "cell_type": "markdown",
   "metadata": {},
   "source": [
    "#### c) Función `acceso_autorizado`\n",
    "\n",
    "Debajo tenemos un conjunto de datos que tiene información de varios usuarios de una plataforma web. Este diccionario relaciona `usernames` con un rol y (a veces) con un nip de acceso:"
   ]
  },
  {
   "cell_type": "code",
   "execution_count": 62,
   "metadata": {},
   "outputs": [],
   "source": [
    "usuarios = {\n",
    "    \"manolito_garcia\": {\n",
    "        \"rol\": \"admin\"\n",
    "    },\n",
    "    \"sebas_macaco_23\": {\n",
    "        \"rol\": \"editor\",\n",
    "        \"nip_de_acceso\": 3594\n",
    "    },\n",
    "    \"la_susanita_maestra\": {\n",
    "        \"rol\": \"admin\"\n",
    "    },\n",
    "    \"pepe_le_pu_88\": {\n",
    "        \"rol\": \"lector\"\n",
    "    },\n",
    "    \"jonny_bravo_estuvo_aqui\": {\n",
    "        \"rol\": \"editor\",\n",
    "        \"nip_de_acceso\": 9730\n",
    "    },\n",
    "    \"alfonso_torres_69\": {\n",
    "        \"rol\": \"editor\",\n",
    "        \"nip_de_acceso\": 2849\n",
    "    },\n",
    "    \"jocosita_99\": {\n",
    "        \"rol\": \"lector\"\n",
    "    }\n",
    "}"
   ]
  },
  {
   "cell_type": "code",
   "execution_count": 71,
   "metadata": {},
   "outputs": [
    {
     "ename": "KeyError",
     "evalue": "'username'",
     "output_type": "error",
     "traceback": [
      "\u001b[1;31m---------------------------------------------------------------------------\u001b[0m",
      "\u001b[1;31mKeyError\u001b[0m                                  Traceback (most recent call last)",
      "\u001b[1;32m<ipython-input-71-0be975c71799>\u001b[0m in \u001b[0;36m<module>\u001b[1;34m\u001b[0m\n\u001b[1;32m----> 1\u001b[1;33m \u001b[0musuarios\u001b[0m\u001b[1;33m[\u001b[0m\u001b[1;34m'username'\u001b[0m\u001b[1;33m]\u001b[0m\u001b[1;33m[\u001b[0m\u001b[1;34m'rol'\u001b[0m\u001b[1;33m]\u001b[0m\u001b[1;33m\u001b[0m\u001b[1;33m\u001b[0m\u001b[0m\n\u001b[0m",
      "\u001b[1;31mKeyError\u001b[0m: 'username'"
     ]
    }
   ],
   "source": []
  },
  {
   "cell_type": "markdown",
   "metadata": {},
   "source": [
    "Nuestra plataforma tiene 3 roles:\n",
    "\n",
    "1. Admin: estos pueden editar información sin necesitar un nip de acceso.\n",
    "2. Editor: pueden editar información sólo si escriben correctamenta su nip de acceso.\n",
    "3. Lector: no pueden editar, sólo ver la información, no necesitan nip de acceso.\n",
    "\n",
    "En la celda debajo, crea una función llamada `nivel_de_acceso_para_username` que reciba 3 parámetros:\n",
    "\n",
    "1. `base_de_datos`: que será siempre nuestro diccionario `usuarios`.\n",
    "2. `username`: El `username` del usuario que está solicitando acceso.\n",
    "3. `nip_de_acceso`: El nip de acceso, que puede ser `None` en el caso de que el usuario no tenga uno (o que haya olvidado escribirlo a la hora de pedir acceso.\n",
    "\n",
    "Con estos 3 parámetros, nuestra función tiene que regresar uno de los códigos de acceso siguientes:\n",
    "\n",
    "- `0`: Acceso denegado (esto sucede si el rol es `editor` y el `nip_de_acceso` es incorrecto).\n",
    "- `1`: Modo edición autorizada (esto sucede si el rol es `admin` o si el rol es `editor` y el `nip_de_acesso` es correcto).\n",
    "- `2`: Modo lectura autorizada (esto sucede si el rol es `lector`).\n",
    "\n",
    "Después, corre los tests para asegurarte de que tu función es correcta.\n",
    "\n",
    "> Tip: Recuerda que puedes \"anidar\" `sentencias if` dentro de otras `sentencias if`.\n",
    "\n",
    "> Reto extra: Agrega un chequeo que regrese `0` si el `username` que recibió tu función no existe en la base de datos."
   ]
  },
  {
   "cell_type": "code",
   "execution_count": 106,
   "metadata": {},
   "outputs": [
    {
     "data": {
      "text/plain": [
       "0"
      ]
     },
     "execution_count": 106,
     "metadata": {},
     "output_type": "execute_result"
    }
   ],
   "source": [
    "## Tu función va aquí\n",
    "# ...\n",
    "# ...\n",
    "\n",
    "def nivel_de_acceso_para_username (base_de_datos, username, nip_de_acceso):\n",
    "    if username in base_de_datos:\n",
    "        if base_de_datos[username]['rol'] == 'admin':\n",
    "            acceso = 1\n",
    "        elif  base_de_datos[username]['rol']== 'editor' and nip_de_acceso == base_de_datos[username]['nip_de_acceso']:\n",
    "            acceso = 1\n",
    "        elif base_de_datos[username]['rol'] == 'lector':\n",
    "            acceso = 2\n",
    "        else:\n",
    "            acceso = 0\n",
    "        return acceso\n",
    "        \n",
    "nivel_de_acceso_para_username(usuarios, \"jonny_bravo_estuvo_aqui\", None)  "
   ]
  },
  {
   "cell_type": "code",
   "execution_count": 107,
   "metadata": {},
   "outputs": [],
   "source": [
    "## funcion de prueba\n",
    "def test_funcion(funcion_a_probar, num_de_errores, contador, parametros=[], resultado_esperado=None):\n",
    "    resultado_test = funcion_a_probar(*parametros)\n",
    "    print(f'Test {contador}: Resultado esperado es `{resultado_esperado}`, obtuvimos `{resultado_test}`')\n",
    "    if resultado_test != resultado_esperado:\n",
    "        num_de_errores += 1\n",
    "    return num_de_errores"
   ]
  },
  {
   "cell_type": "code",
   "execution_count": 108,
   "metadata": {},
   "outputs": [
    {
     "name": "stdout",
     "output_type": "stream",
     "text": [
      "== Tests nivel_de_acceso_para_username==\n",
      "\n",
      "Test 1: Resultado esperado es `1`, obtuvimos `1`\n",
      "Test 2: Resultado esperado es `1`, obtuvimos `1`\n",
      "Test 3: Resultado esperado es `0`, obtuvimos `0`\n",
      "Test 4: Resultado esperado es `2`, obtuvimos `2`\n",
      "Test 5: Resultado esperado es `0`, obtuvimos `0`\n",
      "\n",
      "Errores encontrados: 0\n"
     ]
    }
   ],
   "source": [
    "print(\"== Tests nivel_de_acceso_para_username==\\n\")\n",
    "\n",
    "contador_de_tests = 0\n",
    "errores = 0\n",
    "\n",
    "contador_de_tests += 1\n",
    "errores = test_funcion(nivel_de_acceso_para_username, errores, contador_de_tests,\n",
    "                       parametros=[usuarios, \"manolito_garcia\", None], resultado_esperado=1)\n",
    "contador_de_tests += 1\n",
    "errores = test_funcion(nivel_de_acceso_para_username, errores, contador_de_tests,\n",
    "                       parametros=[usuarios, \"sebas_macaco_23\", 3594], resultado_esperado=1)\n",
    "contador_de_tests += 1\n",
    "errores = test_funcion(nivel_de_acceso_para_username, errores, contador_de_tests,\n",
    "                       parametros=[usuarios, \"jonny_bravo_estuvo_aqui\", 9999], resultado_esperado=0)\n",
    "contador_de_tests += 1\n",
    "errores = test_funcion(nivel_de_acceso_para_username, errores, contador_de_tests,\n",
    "                       parametros=[usuarios, \"pepe_le_pu_88\", None], resultado_esperado=2)\n",
    "contador_de_tests += 1\n",
    "errores = test_funcion(nivel_de_acceso_para_username, errores, contador_de_tests, \n",
    "                       parametros=[usuarios, \"alfonso_torres_69\", None], resultado_esperado=0)\n",
    "\n",
    "# Corre el siguiente código sólo si decidiste realizar el reto extra\n",
    "#\n",
    "# contador_de_tests += 1\n",
    "# errores = test_funcion(nivel_de_acceso_para_username, errores, contador_de_tests,\n",
    "#                        parametros=[usuarios, \"los_yeah_yeahs_97\", 1345], resultado_esperado=0)\n",
    "\n",
    "print(f'\\nErrores encontrados: {errores}')"
   ]
  },
  {
   "cell_type": "markdown",
   "metadata": {},
   "source": [
    "Notas:"
   ]
  }
 ],
 "metadata": {
  "kernelspec": {
   "display_name": "Python 3",
   "language": "python",
   "name": "python3"
  },
  "language_info": {
   "codemirror_mode": {
    "name": "ipython",
    "version": 3
   },
   "file_extension": ".py",
   "mimetype": "text/x-python",
   "name": "python",
   "nbconvert_exporter": "python",
   "pygments_lexer": "ipython3",
   "version": "3.8.5"
  }
 },
 "nbformat": 4,
 "nbformat_minor": 4
}
