{
 "cells": [
  {
   "cell_type": "markdown",
   "metadata": {},
   "source": [
    "## Ejemplo 3: Operaciones numéricas\n",
    "\n",
    "### 1. Objetivos:\n",
    "\n",
    "- Mostrar cómo usar los operadores aritméticos\n",
    "- Practicar asignación de variables y output de celdas\n",
    "\n",
    "---\n",
    "\n",
    "### 2. Desarrollo:"
   ]
  },
  {
   "cell_type": "markdown",
   "metadata": {},
   "source": [
    "Se aplicará el uso de variables y operaciones calculando el área de una superficie circular cuyo radio es de 50 m. Imprimer el resultado incluyendo las unidades adecuadas.\n",
    "\n",
    "Primero para calcular el área de un círculo se hará uso de la fórmula:\n",
    "\n",
    "area = pi x radio²\n",
    "\n",
    "Entonces asignemos unas variables:"
   ]
  },
  {
   "cell_type": "code",
   "execution_count": 1,
   "metadata": {},
   "outputs": [],
   "source": [
    "# crea las variables pi y radio y asigna sus valores.\n",
    "pi = 3.1416\n",
    "radio = 50"
   ]
  },
  {
   "cell_type": "markdown",
   "metadata": {},
   "source": [
    "Para realizar operaciones numéricas con estas variables, basta con escribir la operación en una celda y correrla. Veremos el resultado debajo de la celda:"
   ]
  },
  {
   "cell_type": "code",
   "execution_count": 2,
   "metadata": {},
   "outputs": [
    {
     "data": {
      "text/plain": [
       "7854.0"
      ]
     },
     "execution_count": 2,
     "metadata": {},
     "output_type": "execute_result"
    }
   ],
   "source": [
    "# calcular el área del círculo\n",
    "pi * radio**2"
   ]
  },
  {
   "cell_type": "markdown",
   "metadata": {},
   "source": [
    "Si queremos imprimir más de una operación en la misma celda o dar formato o incluir más información, podemos usar la función `print()`:"
   ]
  },
  {
   "cell_type": "code",
   "execution_count": 4,
   "metadata": {},
   "outputs": [
    {
     "name": "stdout",
     "output_type": "stream",
     "text": [
      "7854.0 m^2\n"
     ]
    }
   ],
   "source": [
    "# imprimir el área del círculo incluyendo unidades usando la instrucci\n",
    "print(pi * radio**2,'m^2')"
   ]
  },
  {
   "cell_type": "markdown",
   "metadata": {},
   "source": [
    "También podemos asignar los resultados de nuestras operaciones a otras variables:"
   ]
  },
  {
   "cell_type": "code",
   "execution_count": 5,
   "metadata": {},
   "outputs": [
    {
     "data": {
      "text/plain": [
       "7854.0"
      ]
     },
     "execution_count": 5,
     "metadata": {},
     "output_type": "execute_result"
    }
   ],
   "source": [
    "# calcula el área del círculo y asigna el valor a la variable area e imprime su valor\n",
    "area = pi * radio**2\n",
    "area"
   ]
  },
  {
   "cell_type": "code",
   "execution_count": null,
   "metadata": {},
   "outputs": [],
   "source": [
    "# ahora imprime incluyendo unidades usando la variable creada"
   ]
  },
  {
   "cell_type": "code",
   "execution_count": 6,
   "metadata": {},
   "outputs": [
    {
     "name": "stdout",
     "output_type": "stream",
     "text": [
      "7854.0 m^2\n"
     ]
    }
   ],
   "source": [
    "print(area, 'm^2')"
   ]
  },
  {
   "cell_type": "markdown",
   "metadata": {},
   "source": [
    "¡Hora de practicar!"
   ]
  },
  {
   "cell_type": "markdown",
   "metadata": {},
   "source": [
    "---\n",
    "---\n",
    "## Reto 1: Operaciones numéricas\n",
    "\n",
    "### 1. Objetivos:\n",
    "    - Practicar asignación de variables y operaciones aritméticas en Python\n",
    " \n",
    "---\n",
    "    \n",
    "### 2. Desarrollo:"
   ]
  },
  {
   "cell_type": "markdown",
   "metadata": {},
   "source": [
    "Calcula el volumen de la Tierra considerando que es idealmente esférica y cuyo radio es de 6371 km.\n",
    "\n",
    "Primero para calcular el volumen se hará uso de la fórmula:\n",
    "\n",
    "volumen = 4 / 3 x pi x radio³\n",
    "\n",
    "Asignación de variables:"
   ]
  },
  {
   "cell_type": "code",
   "execution_count": 7,
   "metadata": {},
   "outputs": [],
   "source": [
    "# asigna la variables necesarias\n",
    "pi = 3.1416\n",
    "radio = 6371"
   ]
  },
  {
   "cell_type": "code",
   "execution_count": 8,
   "metadata": {},
   "outputs": [
    {
     "data": {
      "text/plain": [
       "1083209449854.7167"
      ]
     },
     "execution_count": 8,
     "metadata": {},
     "output_type": "execute_result"
    }
   ],
   "source": [
    "# calcula el volumen aplicando la fórmula y guardando resultado en la variavle volumen\n",
    "volumen = 4 / 3*pi*radio**3\n",
    "volumen"
   ]
  },
  {
   "cell_type": "code",
   "execution_count": 9,
   "metadata": {},
   "outputs": [
    {
     "name": "stdout",
     "output_type": "stream",
     "text": [
      "1083209449854.7167 m^3\n"
     ]
    }
   ],
   "source": [
    "# imprime el resultado usando print incluyendo unidades\n",
    "print(volumen,'m^3')"
   ]
  },
  {
   "cell_type": "code",
   "execution_count": null,
   "metadata": {},
   "outputs": [],
   "source": []
  }
 ],
 "metadata": {
  "kernelspec": {
   "display_name": "Python 3",
   "language": "python",
   "name": "python3"
  },
  "language_info": {
   "codemirror_mode": {
    "name": "ipython",
    "version": 3
   },
   "file_extension": ".py",
   "mimetype": "text/x-python",
   "name": "python",
   "nbconvert_exporter": "python",
   "pygments_lexer": "ipython3",
   "version": "3.8.5"
  }
 },
 "nbformat": 4,
 "nbformat_minor": 4
}
