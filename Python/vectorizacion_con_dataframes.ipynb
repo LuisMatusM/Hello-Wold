{
 "cells": [
  {
   "cell_type": "markdown",
   "metadata": {},
   "source": [
    "## Ejemplo 3: Funciones vectorizadas y agregaciones con `DataFrames`\n",
    "\n",
    "### 1. Objetivos:\n",
    "    - Aprender cómo usar Funciones vectorizadas y agregaciones aplicadas a `DataFrames` completos\n",
    " \n",
    "---\n",
    "    \n",
    "### 2. Desarrollo:"
   ]
  },
  {
   "cell_type": "code",
   "execution_count": 1,
   "metadata": {},
   "outputs": [],
   "source": [
    "import pandas as pd"
   ]
  },
  {
   "cell_type": "markdown",
   "metadata": {},
   "source": [
    "Tenemos los siguientes datos y su correspondiente DataFrame:"
   ]
  },
  {
   "cell_type": "code",
   "execution_count": 2,
   "metadata": {},
   "outputs": [],
   "source": [
    "datos = {\n",
    "    'precio': [34, 54, 223, 78, 56, 12, 34],\n",
    "    'cantidad_en_stock': [3, 6, 10, 2, 5, 45, 2],\n",
    "    'productos_vendidos': [3, 45, 23, 76, 24, 6, 2]\n",
    "}\n",
    "\n",
    "df = pd.DataFrame(datos,\n",
    "    index=[\"Pokemaster\", \"Cegatron\", \"Pikame Mucho\",\n",
    "           \"Lazarillo de Tormes\", \"Stevie Wonder\",\n",
    "           \"Needle\", \"El AyMeDuele\"])"
   ]
  },
  {
   "cell_type": "code",
   "execution_count": 3,
   "metadata": {},
   "outputs": [
    {
     "data": {
      "text/html": [
       "<div>\n",
       "<style scoped>\n",
       "    .dataframe tbody tr th:only-of-type {\n",
       "        vertical-align: middle;\n",
       "    }\n",
       "\n",
       "    .dataframe tbody tr th {\n",
       "        vertical-align: top;\n",
       "    }\n",
       "\n",
       "    .dataframe thead th {\n",
       "        text-align: right;\n",
       "    }\n",
       "</style>\n",
       "<table border=\"1\" class=\"dataframe\">\n",
       "  <thead>\n",
       "    <tr style=\"text-align: right;\">\n",
       "      <th></th>\n",
       "      <th>precio</th>\n",
       "      <th>cantidad_en_stock</th>\n",
       "      <th>productos_vendidos</th>\n",
       "    </tr>\n",
       "  </thead>\n",
       "  <tbody>\n",
       "    <tr>\n",
       "      <th>Pokemaster</th>\n",
       "      <td>34</td>\n",
       "      <td>3</td>\n",
       "      <td>3</td>\n",
       "    </tr>\n",
       "    <tr>\n",
       "      <th>Cegatron</th>\n",
       "      <td>54</td>\n",
       "      <td>6</td>\n",
       "      <td>45</td>\n",
       "    </tr>\n",
       "    <tr>\n",
       "      <th>Pikame Mucho</th>\n",
       "      <td>223</td>\n",
       "      <td>10</td>\n",
       "      <td>23</td>\n",
       "    </tr>\n",
       "    <tr>\n",
       "      <th>Lazarillo de Tormes</th>\n",
       "      <td>78</td>\n",
       "      <td>2</td>\n",
       "      <td>76</td>\n",
       "    </tr>\n",
       "    <tr>\n",
       "      <th>Stevie Wonder</th>\n",
       "      <td>56</td>\n",
       "      <td>5</td>\n",
       "      <td>24</td>\n",
       "    </tr>\n",
       "    <tr>\n",
       "      <th>Needle</th>\n",
       "      <td>12</td>\n",
       "      <td>45</td>\n",
       "      <td>6</td>\n",
       "    </tr>\n",
       "    <tr>\n",
       "      <th>El AyMeDuele</th>\n",
       "      <td>34</td>\n",
       "      <td>2</td>\n",
       "      <td>2</td>\n",
       "    </tr>\n",
       "  </tbody>\n",
       "</table>\n",
       "</div>"
      ],
      "text/plain": [
       "                     precio  cantidad_en_stock  productos_vendidos\n",
       "Pokemaster               34                  3                   3\n",
       "Cegatron                 54                  6                  45\n",
       "Pikame Mucho            223                 10                  23\n",
       "Lazarillo de Tormes      78                  2                  76\n",
       "Stevie Wonder            56                  5                  24\n",
       "Needle                   12                 45                   6\n",
       "El AyMeDuele             34                  2                   2"
      ]
     },
     "execution_count": 3,
     "metadata": {},
     "output_type": "execute_result"
    }
   ],
   "source": [
    "df"
   ]
  },
  {
   "cell_type": "markdown",
   "metadata": {},
   "source": [
    "Si aplicamos operaciones aritméticas a nuestro `DataFrame` la operación se aplicará elemento por elemento a nuestro `DataFrame` completo, por ejemplo multiplica por 100 todos los valores del DataFrame:"
   ]
  },
  {
   "cell_type": "code",
   "execution_count": 4,
   "metadata": {},
   "outputs": [
    {
     "data": {
      "text/html": [
       "<div>\n",
       "<style scoped>\n",
       "    .dataframe tbody tr th:only-of-type {\n",
       "        vertical-align: middle;\n",
       "    }\n",
       "\n",
       "    .dataframe tbody tr th {\n",
       "        vertical-align: top;\n",
       "    }\n",
       "\n",
       "    .dataframe thead th {\n",
       "        text-align: right;\n",
       "    }\n",
       "</style>\n",
       "<table border=\"1\" class=\"dataframe\">\n",
       "  <thead>\n",
       "    <tr style=\"text-align: right;\">\n",
       "      <th></th>\n",
       "      <th>precio</th>\n",
       "      <th>cantidad_en_stock</th>\n",
       "      <th>productos_vendidos</th>\n",
       "    </tr>\n",
       "  </thead>\n",
       "  <tbody>\n",
       "    <tr>\n",
       "      <th>Pokemaster</th>\n",
       "      <td>3400</td>\n",
       "      <td>300</td>\n",
       "      <td>300</td>\n",
       "    </tr>\n",
       "    <tr>\n",
       "      <th>Cegatron</th>\n",
       "      <td>5400</td>\n",
       "      <td>600</td>\n",
       "      <td>4500</td>\n",
       "    </tr>\n",
       "    <tr>\n",
       "      <th>Pikame Mucho</th>\n",
       "      <td>22300</td>\n",
       "      <td>1000</td>\n",
       "      <td>2300</td>\n",
       "    </tr>\n",
       "    <tr>\n",
       "      <th>Lazarillo de Tormes</th>\n",
       "      <td>7800</td>\n",
       "      <td>200</td>\n",
       "      <td>7600</td>\n",
       "    </tr>\n",
       "    <tr>\n",
       "      <th>Stevie Wonder</th>\n",
       "      <td>5600</td>\n",
       "      <td>500</td>\n",
       "      <td>2400</td>\n",
       "    </tr>\n",
       "    <tr>\n",
       "      <th>Needle</th>\n",
       "      <td>1200</td>\n",
       "      <td>4500</td>\n",
       "      <td>600</td>\n",
       "    </tr>\n",
       "    <tr>\n",
       "      <th>El AyMeDuele</th>\n",
       "      <td>3400</td>\n",
       "      <td>200</td>\n",
       "      <td>200</td>\n",
       "    </tr>\n",
       "  </tbody>\n",
       "</table>\n",
       "</div>"
      ],
      "text/plain": [
       "                     precio  cantidad_en_stock  productos_vendidos\n",
       "Pokemaster             3400                300                 300\n",
       "Cegatron               5400                600                4500\n",
       "Pikame Mucho          22300               1000                2300\n",
       "Lazarillo de Tormes    7800                200                7600\n",
       "Stevie Wonder          5600                500                2400\n",
       "Needle                 1200               4500                 600\n",
       "El AyMeDuele           3400                200                 200"
      ]
     },
     "execution_count": 4,
     "metadata": {},
     "output_type": "execute_result"
    }
   ],
   "source": [
    "# tu código\n",
    "df * 100"
   ]
  },
  {
   "cell_type": "markdown",
   "metadata": {},
   "source": [
    "Ahora suma 100 y divide por 2:"
   ]
  },
  {
   "cell_type": "code",
   "execution_count": 5,
   "metadata": {},
   "outputs": [
    {
     "data": {
      "text/html": [
       "<div>\n",
       "<style scoped>\n",
       "    .dataframe tbody tr th:only-of-type {\n",
       "        vertical-align: middle;\n",
       "    }\n",
       "\n",
       "    .dataframe tbody tr th {\n",
       "        vertical-align: top;\n",
       "    }\n",
       "\n",
       "    .dataframe thead th {\n",
       "        text-align: right;\n",
       "    }\n",
       "</style>\n",
       "<table border=\"1\" class=\"dataframe\">\n",
       "  <thead>\n",
       "    <tr style=\"text-align: right;\">\n",
       "      <th></th>\n",
       "      <th>precio</th>\n",
       "      <th>cantidad_en_stock</th>\n",
       "      <th>productos_vendidos</th>\n",
       "    </tr>\n",
       "  </thead>\n",
       "  <tbody>\n",
       "    <tr>\n",
       "      <th>Pokemaster</th>\n",
       "      <td>67.0</td>\n",
       "      <td>51.5</td>\n",
       "      <td>51.5</td>\n",
       "    </tr>\n",
       "    <tr>\n",
       "      <th>Cegatron</th>\n",
       "      <td>77.0</td>\n",
       "      <td>53.0</td>\n",
       "      <td>72.5</td>\n",
       "    </tr>\n",
       "    <tr>\n",
       "      <th>Pikame Mucho</th>\n",
       "      <td>161.5</td>\n",
       "      <td>55.0</td>\n",
       "      <td>61.5</td>\n",
       "    </tr>\n",
       "    <tr>\n",
       "      <th>Lazarillo de Tormes</th>\n",
       "      <td>89.0</td>\n",
       "      <td>51.0</td>\n",
       "      <td>88.0</td>\n",
       "    </tr>\n",
       "    <tr>\n",
       "      <th>Stevie Wonder</th>\n",
       "      <td>78.0</td>\n",
       "      <td>52.5</td>\n",
       "      <td>62.0</td>\n",
       "    </tr>\n",
       "    <tr>\n",
       "      <th>Needle</th>\n",
       "      <td>56.0</td>\n",
       "      <td>72.5</td>\n",
       "      <td>53.0</td>\n",
       "    </tr>\n",
       "    <tr>\n",
       "      <th>El AyMeDuele</th>\n",
       "      <td>67.0</td>\n",
       "      <td>51.0</td>\n",
       "      <td>51.0</td>\n",
       "    </tr>\n",
       "  </tbody>\n",
       "</table>\n",
       "</div>"
      ],
      "text/plain": [
       "                     precio  cantidad_en_stock  productos_vendidos\n",
       "Pokemaster             67.0               51.5                51.5\n",
       "Cegatron               77.0               53.0                72.5\n",
       "Pikame Mucho          161.5               55.0                61.5\n",
       "Lazarillo de Tormes    89.0               51.0                88.0\n",
       "Stevie Wonder          78.0               52.5                62.0\n",
       "Needle                 56.0               72.5                53.0\n",
       "El AyMeDuele           67.0               51.0                51.0"
      ]
     },
     "execution_count": 5,
     "metadata": {},
     "output_type": "execute_result"
    }
   ],
   "source": [
    "# tú código\n",
    "(df + 100 ) / 2"
   ]
  },
  {
   "cell_type": "markdown",
   "metadata": {},
   "source": [
    "Eleva al cuadrado todos los valores del DataFrame"
   ]
  },
  {
   "cell_type": "code",
   "execution_count": 6,
   "metadata": {},
   "outputs": [
    {
     "data": {
      "text/html": [
       "<div>\n",
       "<style scoped>\n",
       "    .dataframe tbody tr th:only-of-type {\n",
       "        vertical-align: middle;\n",
       "    }\n",
       "\n",
       "    .dataframe tbody tr th {\n",
       "        vertical-align: top;\n",
       "    }\n",
       "\n",
       "    .dataframe thead th {\n",
       "        text-align: right;\n",
       "    }\n",
       "</style>\n",
       "<table border=\"1\" class=\"dataframe\">\n",
       "  <thead>\n",
       "    <tr style=\"text-align: right;\">\n",
       "      <th></th>\n",
       "      <th>precio</th>\n",
       "      <th>cantidad_en_stock</th>\n",
       "      <th>productos_vendidos</th>\n",
       "    </tr>\n",
       "  </thead>\n",
       "  <tbody>\n",
       "    <tr>\n",
       "      <th>Pokemaster</th>\n",
       "      <td>1156</td>\n",
       "      <td>9</td>\n",
       "      <td>9</td>\n",
       "    </tr>\n",
       "    <tr>\n",
       "      <th>Cegatron</th>\n",
       "      <td>2916</td>\n",
       "      <td>36</td>\n",
       "      <td>2025</td>\n",
       "    </tr>\n",
       "    <tr>\n",
       "      <th>Pikame Mucho</th>\n",
       "      <td>49729</td>\n",
       "      <td>100</td>\n",
       "      <td>529</td>\n",
       "    </tr>\n",
       "    <tr>\n",
       "      <th>Lazarillo de Tormes</th>\n",
       "      <td>6084</td>\n",
       "      <td>4</td>\n",
       "      <td>5776</td>\n",
       "    </tr>\n",
       "    <tr>\n",
       "      <th>Stevie Wonder</th>\n",
       "      <td>3136</td>\n",
       "      <td>25</td>\n",
       "      <td>576</td>\n",
       "    </tr>\n",
       "    <tr>\n",
       "      <th>Needle</th>\n",
       "      <td>144</td>\n",
       "      <td>2025</td>\n",
       "      <td>36</td>\n",
       "    </tr>\n",
       "    <tr>\n",
       "      <th>El AyMeDuele</th>\n",
       "      <td>1156</td>\n",
       "      <td>4</td>\n",
       "      <td>4</td>\n",
       "    </tr>\n",
       "  </tbody>\n",
       "</table>\n",
       "</div>"
      ],
      "text/plain": [
       "                     precio  cantidad_en_stock  productos_vendidos\n",
       "Pokemaster             1156                  9                   9\n",
       "Cegatron               2916                 36                2025\n",
       "Pikame Mucho          49729                100                 529\n",
       "Lazarillo de Tormes    6084                  4                5776\n",
       "Stevie Wonder          3136                 25                 576\n",
       "Needle                  144               2025                  36\n",
       "El AyMeDuele           1156                  4                   4"
      ]
     },
     "execution_count": 6,
     "metadata": {},
     "output_type": "execute_result"
    }
   ],
   "source": [
    "# tu código\n",
    "df ** 2"
   ]
  },
  {
   "cell_type": "markdown",
   "metadata": {},
   "source": [
    "También podemos aplicar funciones vectorizadas con el mismo resultado:"
   ]
  },
  {
   "cell_type": "code",
   "execution_count": 7,
   "metadata": {},
   "outputs": [],
   "source": [
    "import numpy as np"
   ]
  },
  {
   "cell_type": "markdown",
   "metadata": {},
   "source": [
    "Eleva al cuadrado usando la función vectorizadas de NumPy `np.power(-dataframe-,-potencia-)`:"
   ]
  },
  {
   "cell_type": "code",
   "execution_count": 8,
   "metadata": {},
   "outputs": [
    {
     "data": {
      "text/html": [
       "<div>\n",
       "<style scoped>\n",
       "    .dataframe tbody tr th:only-of-type {\n",
       "        vertical-align: middle;\n",
       "    }\n",
       "\n",
       "    .dataframe tbody tr th {\n",
       "        vertical-align: top;\n",
       "    }\n",
       "\n",
       "    .dataframe thead th {\n",
       "        text-align: right;\n",
       "    }\n",
       "</style>\n",
       "<table border=\"1\" class=\"dataframe\">\n",
       "  <thead>\n",
       "    <tr style=\"text-align: right;\">\n",
       "      <th></th>\n",
       "      <th>precio</th>\n",
       "      <th>cantidad_en_stock</th>\n",
       "      <th>productos_vendidos</th>\n",
       "    </tr>\n",
       "  </thead>\n",
       "  <tbody>\n",
       "    <tr>\n",
       "      <th>Pokemaster</th>\n",
       "      <td>1156</td>\n",
       "      <td>9</td>\n",
       "      <td>9</td>\n",
       "    </tr>\n",
       "    <tr>\n",
       "      <th>Cegatron</th>\n",
       "      <td>2916</td>\n",
       "      <td>36</td>\n",
       "      <td>2025</td>\n",
       "    </tr>\n",
       "    <tr>\n",
       "      <th>Pikame Mucho</th>\n",
       "      <td>49729</td>\n",
       "      <td>100</td>\n",
       "      <td>529</td>\n",
       "    </tr>\n",
       "    <tr>\n",
       "      <th>Lazarillo de Tormes</th>\n",
       "      <td>6084</td>\n",
       "      <td>4</td>\n",
       "      <td>5776</td>\n",
       "    </tr>\n",
       "    <tr>\n",
       "      <th>Stevie Wonder</th>\n",
       "      <td>3136</td>\n",
       "      <td>25</td>\n",
       "      <td>576</td>\n",
       "    </tr>\n",
       "    <tr>\n",
       "      <th>Needle</th>\n",
       "      <td>144</td>\n",
       "      <td>2025</td>\n",
       "      <td>36</td>\n",
       "    </tr>\n",
       "    <tr>\n",
       "      <th>El AyMeDuele</th>\n",
       "      <td>1156</td>\n",
       "      <td>4</td>\n",
       "      <td>4</td>\n",
       "    </tr>\n",
       "  </tbody>\n",
       "</table>\n",
       "</div>"
      ],
      "text/plain": [
       "                     precio  cantidad_en_stock  productos_vendidos\n",
       "Pokemaster             1156                  9                   9\n",
       "Cegatron               2916                 36                2025\n",
       "Pikame Mucho          49729                100                 529\n",
       "Lazarillo de Tormes    6084                  4                5776\n",
       "Stevie Wonder          3136                 25                 576\n",
       "Needle                  144               2025                  36\n",
       "El AyMeDuele           1156                  4                   4"
      ]
     },
     "execution_count": 8,
     "metadata": {},
     "output_type": "execute_result"
    }
   ],
   "source": [
    "# tu código\n",
    "np.power(df,2)"
   ]
  },
  {
   "cell_type": "markdown",
   "metadata": {},
   "source": [
    "O se puede obtener la raíz cuadrada usando la función vectorizadas de NumPy `np.sqrt(-dataframe-)`:"
   ]
  },
  {
   "cell_type": "code",
   "execution_count": 9,
   "metadata": {},
   "outputs": [
    {
     "data": {
      "text/html": [
       "<div>\n",
       "<style scoped>\n",
       "    .dataframe tbody tr th:only-of-type {\n",
       "        vertical-align: middle;\n",
       "    }\n",
       "\n",
       "    .dataframe tbody tr th {\n",
       "        vertical-align: top;\n",
       "    }\n",
       "\n",
       "    .dataframe thead th {\n",
       "        text-align: right;\n",
       "    }\n",
       "</style>\n",
       "<table border=\"1\" class=\"dataframe\">\n",
       "  <thead>\n",
       "    <tr style=\"text-align: right;\">\n",
       "      <th></th>\n",
       "      <th>precio</th>\n",
       "      <th>cantidad_en_stock</th>\n",
       "      <th>productos_vendidos</th>\n",
       "    </tr>\n",
       "  </thead>\n",
       "  <tbody>\n",
       "    <tr>\n",
       "      <th>Pokemaster</th>\n",
       "      <td>5.830952</td>\n",
       "      <td>1.732051</td>\n",
       "      <td>1.732051</td>\n",
       "    </tr>\n",
       "    <tr>\n",
       "      <th>Cegatron</th>\n",
       "      <td>7.348469</td>\n",
       "      <td>2.449490</td>\n",
       "      <td>6.708204</td>\n",
       "    </tr>\n",
       "    <tr>\n",
       "      <th>Pikame Mucho</th>\n",
       "      <td>14.933185</td>\n",
       "      <td>3.162278</td>\n",
       "      <td>4.795832</td>\n",
       "    </tr>\n",
       "    <tr>\n",
       "      <th>Lazarillo de Tormes</th>\n",
       "      <td>8.831761</td>\n",
       "      <td>1.414214</td>\n",
       "      <td>8.717798</td>\n",
       "    </tr>\n",
       "    <tr>\n",
       "      <th>Stevie Wonder</th>\n",
       "      <td>7.483315</td>\n",
       "      <td>2.236068</td>\n",
       "      <td>4.898979</td>\n",
       "    </tr>\n",
       "    <tr>\n",
       "      <th>Needle</th>\n",
       "      <td>3.464102</td>\n",
       "      <td>6.708204</td>\n",
       "      <td>2.449490</td>\n",
       "    </tr>\n",
       "    <tr>\n",
       "      <th>El AyMeDuele</th>\n",
       "      <td>5.830952</td>\n",
       "      <td>1.414214</td>\n",
       "      <td>1.414214</td>\n",
       "    </tr>\n",
       "  </tbody>\n",
       "</table>\n",
       "</div>"
      ],
      "text/plain": [
       "                        precio  cantidad_en_stock  productos_vendidos\n",
       "Pokemaster            5.830952           1.732051            1.732051\n",
       "Cegatron              7.348469           2.449490            6.708204\n",
       "Pikame Mucho         14.933185           3.162278            4.795832\n",
       "Lazarillo de Tormes   8.831761           1.414214            8.717798\n",
       "Stevie Wonder         7.483315           2.236068            4.898979\n",
       "Needle                3.464102           6.708204            2.449490\n",
       "El AyMeDuele          5.830952           1.414214            1.414214"
      ]
     },
     "execution_count": 9,
     "metadata": {},
     "output_type": "execute_result"
    }
   ],
   "source": [
    "# tu código\n",
    "np.sqrt(df)"
   ]
  },
  {
   "cell_type": "markdown",
   "metadata": {},
   "source": [
    "También se puede aplicar la siguiente fórmula a todos los elementos `sen(x) + 100`:"
   ]
  },
  {
   "cell_type": "code",
   "execution_count": 10,
   "metadata": {},
   "outputs": [
    {
     "data": {
      "text/html": [
       "<div>\n",
       "<style scoped>\n",
       "    .dataframe tbody tr th:only-of-type {\n",
       "        vertical-align: middle;\n",
       "    }\n",
       "\n",
       "    .dataframe tbody tr th {\n",
       "        vertical-align: top;\n",
       "    }\n",
       "\n",
       "    .dataframe thead th {\n",
       "        text-align: right;\n",
       "    }\n",
       "</style>\n",
       "<table border=\"1\" class=\"dataframe\">\n",
       "  <thead>\n",
       "    <tr style=\"text-align: right;\">\n",
       "      <th></th>\n",
       "      <th>precio</th>\n",
       "      <th>cantidad_en_stock</th>\n",
       "      <th>productos_vendidos</th>\n",
       "    </tr>\n",
       "  </thead>\n",
       "  <tbody>\n",
       "    <tr>\n",
       "      <th>Pokemaster</th>\n",
       "      <td>100.529083</td>\n",
       "      <td>100.141120</td>\n",
       "      <td>100.141120</td>\n",
       "    </tr>\n",
       "    <tr>\n",
       "      <th>Cegatron</th>\n",
       "      <td>99.441211</td>\n",
       "      <td>99.720585</td>\n",
       "      <td>100.850904</td>\n",
       "    </tr>\n",
       "    <tr>\n",
       "      <th>Pikame Mucho</th>\n",
       "      <td>100.053053</td>\n",
       "      <td>99.455979</td>\n",
       "      <td>99.153780</td>\n",
       "    </tr>\n",
       "    <tr>\n",
       "      <th>Lazarillo de Tormes</th>\n",
       "      <td>100.513978</td>\n",
       "      <td>100.909297</td>\n",
       "      <td>100.566108</td>\n",
       "    </tr>\n",
       "    <tr>\n",
       "      <th>Stevie Wonder</th>\n",
       "      <td>99.478449</td>\n",
       "      <td>99.041076</td>\n",
       "      <td>99.094422</td>\n",
       "    </tr>\n",
       "    <tr>\n",
       "      <th>Needle</th>\n",
       "      <td>99.463427</td>\n",
       "      <td>100.850904</td>\n",
       "      <td>99.720585</td>\n",
       "    </tr>\n",
       "    <tr>\n",
       "      <th>El AyMeDuele</th>\n",
       "      <td>100.529083</td>\n",
       "      <td>100.909297</td>\n",
       "      <td>100.909297</td>\n",
       "    </tr>\n",
       "  </tbody>\n",
       "</table>\n",
       "</div>"
      ],
      "text/plain": [
       "                         precio  cantidad_en_stock  productos_vendidos\n",
       "Pokemaster           100.529083         100.141120          100.141120\n",
       "Cegatron              99.441211          99.720585          100.850904\n",
       "Pikame Mucho         100.053053          99.455979           99.153780\n",
       "Lazarillo de Tormes  100.513978         100.909297          100.566108\n",
       "Stevie Wonder         99.478449          99.041076           99.094422\n",
       "Needle                99.463427         100.850904           99.720585\n",
       "El AyMeDuele         100.529083         100.909297          100.909297"
      ]
     },
     "execution_count": 10,
     "metadata": {},
     "output_type": "execute_result"
    }
   ],
   "source": [
    "# tu código\n",
    "np.sin(df) + 100"
   ]
  },
  {
   "cell_type": "markdown",
   "metadata": {},
   "source": [
    "Si usamos agregaciones, las agregaciones se hacen de manera automática por columna, por ejemplo `dataframe.sum()`:"
   ]
  },
  {
   "cell_type": "code",
   "execution_count": 14,
   "metadata": {},
   "outputs": [
    {
     "data": {
      "text/plain": [
       "precio                491\n",
       "cantidad_en_stock      73\n",
       "productos_vendidos    179\n",
       "dtype: int64"
      ]
     },
     "execution_count": 14,
     "metadata": {},
     "output_type": "execute_result"
    }
   ],
   "source": [
    "# tu código\n",
    "suma_columnas = df.sum()\n",
    "suma_columnas"
   ]
  },
  {
   "cell_type": "markdown",
   "metadata": {},
   "source": [
    "Y si aplicamos nuevamente la suma a la variable `suma_columnas`:"
   ]
  },
  {
   "cell_type": "code",
   "execution_count": 15,
   "metadata": {},
   "outputs": [
    {
     "data": {
      "text/plain": [
       "743"
      ]
     },
     "execution_count": 15,
     "metadata": {},
     "output_type": "execute_result"
    }
   ],
   "source": [
    "suma_columnas.sum()"
   ]
  },
  {
   "cell_type": "markdown",
   "metadata": {},
   "source": [
    "O se podría aplicar de forma secuencial `dataframe.sum().sum()`:"
   ]
  },
  {
   "cell_type": "code",
   "execution_count": 16,
   "metadata": {},
   "outputs": [
    {
     "data": {
      "text/plain": [
       "743"
      ]
     },
     "execution_count": 16,
     "metadata": {},
     "output_type": "execute_result"
    }
   ],
   "source": [
    "# tu código\n",
    "df.sum().sum()"
   ]
  },
  {
   "cell_type": "markdown",
   "metadata": {},
   "source": [
    "Aunque podemos cambiar ese comportamiento usando `dataframe.sum(axis=1)` para hacerlo por filas:"
   ]
  },
  {
   "cell_type": "code",
   "execution_count": 17,
   "metadata": {},
   "outputs": [
    {
     "data": {
      "text/plain": [
       "Pokemaster              40\n",
       "Cegatron               105\n",
       "Pikame Mucho           256\n",
       "Lazarillo de Tormes    156\n",
       "Stevie Wonder           85\n",
       "Needle                  63\n",
       "El AyMeDuele            38\n",
       "dtype: int64"
      ]
     },
     "execution_count": 17,
     "metadata": {},
     "output_type": "execute_result"
    }
   ],
   "source": [
    "# tu código\n",
    "df.sum(axis = 1)"
   ]
  },
  {
   "cell_type": "markdown",
   "metadata": {},
   "source": [
    "Todas las demás agregaciones funcionan también. El default (o `axis=0`) es hacerlo por columna, pero todas pueden funcionar por fila usando `axis=1`, por ejemplo se puede obtener el mínimo de cada columna usando `axis=0` o por filas usando `axis=1`"
   ]
  },
  {
   "cell_type": "code",
   "execution_count": 18,
   "metadata": {},
   "outputs": [
    {
     "data": {
      "text/plain": [
       "precio                12\n",
       "cantidad_en_stock      2\n",
       "productos_vendidos     2\n",
       "dtype: int64"
      ]
     },
     "execution_count": 18,
     "metadata": {},
     "output_type": "execute_result"
    }
   ],
   "source": [
    "# mínimo por columnas\n",
    "df.min()"
   ]
  },
  {
   "cell_type": "code",
   "execution_count": 19,
   "metadata": {},
   "outputs": [
    {
     "data": {
      "text/plain": [
       "Pokemaster              3\n",
       "Cegatron                6\n",
       "Pikame Mucho           10\n",
       "Lazarillo de Tormes     2\n",
       "Stevie Wonder           5\n",
       "Needle                  6\n",
       "El AyMeDuele            2\n",
       "dtype: int64"
      ]
     },
     "execution_count": 19,
     "metadata": {},
     "output_type": "execute_result"
    }
   ],
   "source": [
    "# mínimo por filas\n",
    "df.min( axis = 1)"
   ]
  },
  {
   "cell_type": "markdown",
   "metadata": {},
   "source": [
    "---\n",
    "---"
   ]
  },
  {
   "cell_type": "markdown",
   "metadata": {},
   "source": [
    "## Reto 3: Agregaciones con `DataFrames`\n",
    "\n",
    "### 1. Objetivos:\n",
    "    - Aplicar agregaciones a `DataFrames` completos para obtener un análisis estadístico\n",
    " \n",
    "---\n",
    "    \n",
    "### 2. Desarrollo:"
   ]
  },
  {
   "cell_type": "markdown",
   "metadata": {},
   "source": [
    "#### a) Análisis estadístico con agregaciones\n",
    "\n",
    "Eres el Analista de Datos de EyePoker Inc. Te han pedido que realices ciertas agregaciones con un conjunto de datos para poder realizar un análisis estadístico básico de los datos que hay dentro.\n",
    "\n",
    "El conjunto de datos es el siguiente:"
   ]
  },
  {
   "cell_type": "code",
   "execution_count": 21,
   "metadata": {},
   "outputs": [],
   "source": [
    "import pandas as pd"
   ]
  },
  {
   "cell_type": "code",
   "execution_count": 22,
   "metadata": {},
   "outputs": [],
   "source": [
    "datos = {\n",
    "    'producto': [\"Pokemaster\", \"Cegatron\", \"Pikame Mucho\", \"Lazarillo de Tormes\", \"Stevie Wonder\", \"Needle\", \"El AyMeDuele\", \"El Desretinador\", \"Sacamel Ojocles\", \"Desojado\", \"Maribel Buenas Noches\", \"Cíclope\", \"El Cuatro Ojos\"],\n",
    "    'precio': [12000, 5500, 2350, 4800, 8900, 6640, 1280, 1040, 23100, 16700, 15000, 13400, 19600],\n",
    "    'cantidad_en_stock': [34, 54, 36, 78, 56, 12, 34, 4, 0, 18, 45, 23, 5],\n",
    "    'cantidad_vendidos': [120, 34, 59, 9, 15, 51, 103, 72, 39, 23, 10, 62, 59]\n",
    "}\n",
    "\n",
    "df = pd.DataFrame(datos)"
   ]
  },
  {
   "cell_type": "code",
   "execution_count": 23,
   "metadata": {},
   "outputs": [
    {
     "data": {
      "text/html": [
       "<div>\n",
       "<style scoped>\n",
       "    .dataframe tbody tr th:only-of-type {\n",
       "        vertical-align: middle;\n",
       "    }\n",
       "\n",
       "    .dataframe tbody tr th {\n",
       "        vertical-align: top;\n",
       "    }\n",
       "\n",
       "    .dataframe thead th {\n",
       "        text-align: right;\n",
       "    }\n",
       "</style>\n",
       "<table border=\"1\" class=\"dataframe\">\n",
       "  <thead>\n",
       "    <tr style=\"text-align: right;\">\n",
       "      <th></th>\n",
       "      <th>producto</th>\n",
       "      <th>precio</th>\n",
       "      <th>cantidad_en_stock</th>\n",
       "      <th>cantidad_vendidos</th>\n",
       "    </tr>\n",
       "  </thead>\n",
       "  <tbody>\n",
       "    <tr>\n",
       "      <th>0</th>\n",
       "      <td>Pokemaster</td>\n",
       "      <td>12000</td>\n",
       "      <td>34</td>\n",
       "      <td>120</td>\n",
       "    </tr>\n",
       "    <tr>\n",
       "      <th>1</th>\n",
       "      <td>Cegatron</td>\n",
       "      <td>5500</td>\n",
       "      <td>54</td>\n",
       "      <td>34</td>\n",
       "    </tr>\n",
       "    <tr>\n",
       "      <th>2</th>\n",
       "      <td>Pikame Mucho</td>\n",
       "      <td>2350</td>\n",
       "      <td>36</td>\n",
       "      <td>59</td>\n",
       "    </tr>\n",
       "    <tr>\n",
       "      <th>3</th>\n",
       "      <td>Lazarillo de Tormes</td>\n",
       "      <td>4800</td>\n",
       "      <td>78</td>\n",
       "      <td>9</td>\n",
       "    </tr>\n",
       "    <tr>\n",
       "      <th>4</th>\n",
       "      <td>Stevie Wonder</td>\n",
       "      <td>8900</td>\n",
       "      <td>56</td>\n",
       "      <td>15</td>\n",
       "    </tr>\n",
       "    <tr>\n",
       "      <th>5</th>\n",
       "      <td>Needle</td>\n",
       "      <td>6640</td>\n",
       "      <td>12</td>\n",
       "      <td>51</td>\n",
       "    </tr>\n",
       "    <tr>\n",
       "      <th>6</th>\n",
       "      <td>El AyMeDuele</td>\n",
       "      <td>1280</td>\n",
       "      <td>34</td>\n",
       "      <td>103</td>\n",
       "    </tr>\n",
       "    <tr>\n",
       "      <th>7</th>\n",
       "      <td>El Desretinador</td>\n",
       "      <td>1040</td>\n",
       "      <td>4</td>\n",
       "      <td>72</td>\n",
       "    </tr>\n",
       "    <tr>\n",
       "      <th>8</th>\n",
       "      <td>Sacamel Ojocles</td>\n",
       "      <td>23100</td>\n",
       "      <td>0</td>\n",
       "      <td>39</td>\n",
       "    </tr>\n",
       "    <tr>\n",
       "      <th>9</th>\n",
       "      <td>Desojado</td>\n",
       "      <td>16700</td>\n",
       "      <td>18</td>\n",
       "      <td>23</td>\n",
       "    </tr>\n",
       "    <tr>\n",
       "      <th>10</th>\n",
       "      <td>Maribel Buenas Noches</td>\n",
       "      <td>15000</td>\n",
       "      <td>45</td>\n",
       "      <td>10</td>\n",
       "    </tr>\n",
       "    <tr>\n",
       "      <th>11</th>\n",
       "      <td>Cíclope</td>\n",
       "      <td>13400</td>\n",
       "      <td>23</td>\n",
       "      <td>62</td>\n",
       "    </tr>\n",
       "    <tr>\n",
       "      <th>12</th>\n",
       "      <td>El Cuatro Ojos</td>\n",
       "      <td>19600</td>\n",
       "      <td>5</td>\n",
       "      <td>59</td>\n",
       "    </tr>\n",
       "  </tbody>\n",
       "</table>\n",
       "</div>"
      ],
      "text/plain": [
       "                 producto  precio  cantidad_en_stock  cantidad_vendidos\n",
       "0              Pokemaster   12000                 34                120\n",
       "1                Cegatron    5500                 54                 34\n",
       "2            Pikame Mucho    2350                 36                 59\n",
       "3     Lazarillo de Tormes    4800                 78                  9\n",
       "4           Stevie Wonder    8900                 56                 15\n",
       "5                  Needle    6640                 12                 51\n",
       "6            El AyMeDuele    1280                 34                103\n",
       "7         El Desretinador    1040                  4                 72\n",
       "8         Sacamel Ojocles   23100                  0                 39\n",
       "9                Desojado   16700                 18                 23\n",
       "10  Maribel Buenas Noches   15000                 45                 10\n",
       "11                Cíclope   13400                 23                 62\n",
       "12         El Cuatro Ojos   19600                  5                 59"
      ]
     },
     "execution_count": 23,
     "metadata": {},
     "output_type": "execute_result"
    }
   ],
   "source": [
    "df"
   ]
  },
  {
   "cell_type": "markdown",
   "metadata": {},
   "source": [
    "Tu tarea es muy simple. Usando métodos de agregación, asigna las variables de la siguiente celda con los resultados de agregar nuestro `DataFrame` **por columna** usando cada una de las medidas estadísticas. Algunas de los métodos ya los conoces. Los que no, [puedes encontrarlos en este link](https://www.interactivechaos.com/manual/tutorial-de-pandas/dataframes-metodos-de-agregacion-y-estadistica). Lo que queremos obtener es una `Serie` con los nombres de las columnas como índice y las agregaciones por columna como valores. Una de las columnas que tenemos en el `DataFrame` no se presta para realizar análisis numéricos, elimínala antes de realizar tu análisis y asigna el resultado a la variable `df_droppped`.\n",
    "\n",
    "**Sólo** utiliza funciones de agregación para tu análisis. En este caso no requieres hacer ninguna operación aritmética."
   ]
  },
  {
   "cell_type": "code",
   "execution_count": 42,
   "metadata": {},
   "outputs": [
    {
     "data": {
      "text/plain": [
       "precio               1040\n",
       "cantidad_en_stock       0\n",
       "cantidad_vendidos       9\n",
       "dtype: int64"
      ]
     },
     "execution_count": 42,
     "metadata": {},
     "output_type": "execute_result"
    }
   ],
   "source": [
    "# Eliminando columna\n",
    "df_dropped = df.drop(columns = ['producto'])\n",
    "df_dropped\n",
    "# El valor mínimo de cada columna\n",
    "mins = df_dropped.min()\n",
    "mins"
   ]
  },
  {
   "cell_type": "code",
   "execution_count": 43,
   "metadata": {},
   "outputs": [
    {
     "data": {
      "text/plain": [
       "precio               23100\n",
       "cantidad_en_stock       78\n",
       "cantidad_vendidos      120\n",
       "dtype: int64"
      ]
     },
     "execution_count": 43,
     "metadata": {},
     "output_type": "execute_result"
    }
   ],
   "source": [
    "# El valor máximo de cada columna\n",
    "maxs = df_dropped.max()\n",
    "maxs"
   ]
  },
  {
   "cell_type": "code",
   "execution_count": 44,
   "metadata": {},
   "outputs": [
    {
     "data": {
      "text/plain": [
       "precio               10023.846154\n",
       "cantidad_en_stock       30.692308\n",
       "cantidad_vendidos       50.461538\n",
       "dtype: float64"
      ]
     },
     "execution_count": 44,
     "metadata": {},
     "output_type": "execute_result"
    }
   ],
   "source": [
    "# El promedio por columna\n",
    "means = df_dropped.mean()\n",
    "means"
   ]
  },
  {
   "cell_type": "code",
   "execution_count": 45,
   "metadata": {},
   "outputs": [
    {
     "data": {
      "text/plain": [
       "precio               8900.0\n",
       "cantidad_en_stock      34.0\n",
       "cantidad_vendidos      51.0\n",
       "dtype: float64"
      ]
     },
     "execution_count": 45,
     "metadata": {},
     "output_type": "execute_result"
    }
   ],
   "source": [
    "# La mediana por columna (El valor que se encuentra a la mitad de la secuencia ordenada de valores)\n",
    "medians = df_dropped.median()\n",
    "medians"
   ]
  },
  {
   "cell_type": "code",
   "execution_count": 46,
   "metadata": {},
   "outputs": [
    {
     "data": {
      "text/plain": [
       "precio               7210.205196\n",
       "cantidad_en_stock      23.382275\n",
       "cantidad_vendidos      34.289492\n",
       "dtype: float64"
      ]
     },
     "execution_count": 46,
     "metadata": {},
     "output_type": "execute_result"
    }
   ],
   "source": [
    "# La desviación estándar por columna\n",
    "stds = df_dropped.std()\n",
    "stds"
   ]
  }
 ],
 "metadata": {
  "kernelspec": {
   "display_name": "Python 3",
   "language": "python",
   "name": "python3"
  },
  "language_info": {
   "codemirror_mode": {
    "name": "ipython",
    "version": 3
   },
   "file_extension": ".py",
   "mimetype": "text/x-python",
   "name": "python",
   "nbconvert_exporter": "python",
   "pygments_lexer": "ipython3",
   "version": "3.8.5"
  }
 },
 "nbformat": 4,
 "nbformat_minor": 4
}
