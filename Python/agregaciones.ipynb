{
 "cells": [
  {
   "cell_type": "markdown",
   "metadata": {},
   "source": [
    "## Ejemplo 2: Agregaciones\n",
    "\n",
    "### 1. Objetivos:\n",
    "    - Aprender cómo usar agregaciones para resumir o reducir un arreglo\n",
    " \n",
    "---\n",
    "    \n",
    "### 2. Desarrollo:"
   ]
  },
  {
   "cell_type": "markdown",
   "metadata": {},
   "source": [
    "Las agregaciones entonces aplican una función a todo el arreglo entero y regresan un único valor que es la agregación o reducción del arreglo.\n",
    "\n",
    "`pandas` ya tiene incluidas bastantes de éstas. Así que podemos llamarlas con tan sólo usar un método de nuestra `Serie`:"
   ]
  },
  {
   "cell_type": "code",
   "execution_count": 1,
   "metadata": {},
   "outputs": [],
   "source": [
    "import pandas as pd"
   ]
  },
  {
   "cell_type": "code",
   "execution_count": 2,
   "metadata": {},
   "outputs": [],
   "source": [
    "serie = pd.Series([1, 2, 3, 4, 5])"
   ]
  },
  {
   "cell_type": "markdown",
   "metadata": {},
   "source": [
    "En Python ya existe una función llamada `sum(-colección-)` que suma todos los elementos de nuestra serie:"
   ]
  },
  {
   "cell_type": "code",
   "execution_count": 3,
   "metadata": {},
   "outputs": [
    {
     "data": {
      "text/plain": [
       "15"
      ]
     },
     "execution_count": 3,
     "metadata": {},
     "output_type": "execute_result"
    }
   ],
   "source": [
    "sum(serie)\n",
    "# tú código"
   ]
  },
  {
   "cell_type": "markdown",
   "metadata": {},
   "source": [
    "Pero Pandas tiene su propia función optimizada de la forma `mi_serie.sum()`:"
   ]
  },
  {
   "cell_type": "code",
   "execution_count": 4,
   "metadata": {},
   "outputs": [
    {
     "data": {
      "text/plain": [
       "15"
      ]
     },
     "execution_count": 4,
     "metadata": {},
     "output_type": "execute_result"
    }
   ],
   "source": [
    "serie.sum()\n",
    "# tú código"
   ]
  },
  {
   "cell_type": "markdown",
   "metadata": {},
   "source": [
    "`min()` y `max()` nos dan el valor mínimo y máximo, respectivamente, de nuestra serie:"
   ]
  },
  {
   "cell_type": "code",
   "execution_count": 6,
   "metadata": {},
   "outputs": [
    {
     "data": {
      "text/plain": [
       "1"
      ]
     },
     "execution_count": 6,
     "metadata": {},
     "output_type": "execute_result"
    }
   ],
   "source": [
    "# obtén el mínimo\n",
    "serie.min()"
   ]
  },
  {
   "cell_type": "code",
   "execution_count": 7,
   "metadata": {},
   "outputs": [
    {
     "data": {
      "text/plain": [
       "5"
      ]
     },
     "execution_count": 7,
     "metadata": {},
     "output_type": "execute_result"
    }
   ],
   "source": [
    "# obtén el máximo\n",
    "serie.max()"
   ]
  },
  {
   "cell_type": "markdown",
   "metadata": {},
   "source": [
    "`count()` nos da el conteo total del número de elementos en nuestro arreglo:"
   ]
  },
  {
   "cell_type": "code",
   "execution_count": 8,
   "metadata": {},
   "outputs": [
    {
     "data": {
      "text/plain": [
       "5"
      ]
     },
     "execution_count": 8,
     "metadata": {},
     "output_type": "execute_result"
    }
   ],
   "source": [
    "# obtén el número de elementos\n",
    "serie.count()"
   ]
  },
  {
   "cell_type": "markdown",
   "metadata": {},
   "source": [
    "También podrías usan la función `len()` de Python:"
   ]
  },
  {
   "cell_type": "code",
   "execution_count": 9,
   "metadata": {},
   "outputs": [
    {
     "data": {
      "text/plain": [
       "5"
      ]
     },
     "execution_count": 9,
     "metadata": {},
     "output_type": "execute_result"
    }
   ],
   "source": [
    "# obtén el número de elementos\n",
    "len(serie)"
   ]
  },
  {
   "cell_type": "markdown",
   "metadata": {},
   "source": [
    "Por si a estas alturas aún dudas que usar las funciones u operaciones de Pandas es sólo un **cuento urbano** vamos a calcular la eficiencia de obtener la suma de una colección de 1 millón de números usando listas y series y entonces comparamos el resultado"
   ]
  },
  {
   "cell_type": "code",
   "execution_count": 2,
   "metadata": {},
   "outputs": [
    {
     "name": "stdout",
     "output_type": "stream",
     "text": [
      "137.15386390686035\n",
      "304.02517318725586\n",
      "2.7649402618408203\n"
     ]
    }
   ],
   "source": [
    "import pandas as pd\n",
    "import numpy as np\n",
    "import time\n",
    "\n",
    "l1 = list(range(1000000))\n",
    "s1 = pd.Series(np.arange(1000000))\n",
    "\n",
    "# Suma usando listas y sum() de Python\n",
    "t1 = time.time()\n",
    "sum(l1)\n",
    "t2 = time.time()\n",
    "print((t2 - t1) * 1000)\n",
    "\n",
    "# Suma usando series y sum() de Python\n",
    "t1 = time.time()\n",
    "sum(s1)\n",
    "t2 = time.time()\n",
    "print((t2 - t1) * 1000)\n",
    "\n",
    "# Suma usando series y sum() de Pandas\n",
    "t1 = time.time()\n",
    "s1.sum()\n",
    "t2 = time.time()\n",
    "print((t2 - t1) * 1000)"
   ]
  },
  {
   "cell_type": "markdown",
   "metadata": {},
   "source": [
    "---\n",
    "---"
   ]
  },
  {
   "cell_type": "markdown",
   "metadata": {},
   "source": [
    "## Reto 2: Agregaciones\n",
    "\n",
    "### 1. Objetivos:\n",
    "    - Usar funciones vectorizadas y agregaciones para computar la desviación estándar de un conjunto de datos\n",
    " \n",
    "---\n",
    "    \n",
    "### 2. Desarrollo:"
   ]
  },
  {
   "cell_type": "markdown",
   "metadata": {},
   "source": [
    "#### a) Desviación Estándar\n",
    "\n",
    "La desviación estándar es una medida que nos dice qué tan dispersos están los datos con respecto a la media. Es una de las medidas estadísticas más comunes e importantes. En este reto vamos a calcular la desviación estándar de un conjunto de datos usando funciones vectorizadas y agregaciones"
   ]
  },
  {
   "cell_type": "markdown",
   "metadata": {},
   "source": [
    "Imagina que has realizado un censo en la H. Universidad de las Américas Unidas. Quieres saber qué tanta dispersión de edades hay en la universidad. Dada la naturaleza de la universidad, hay tanto alumnos extremadamente jóvenes (el más joven tiene 15 años) hasta alumnos bastante mayores (el alumno de más edad tiene 52 años). Para saber qué tan dispersas están las edades de los alumnos, vas a usar la desviación estándar.\n",
    "\n",
    "El algoritmo para sacar la desviación estándar es el siguiente:\n",
    "\n",
    "1. Saca el promedio de tu `Serie`. Esto se hace sumando todos tus datos y luego dividiéndolos entre la cantidad de datos (`n`)\n",
    "2. Después toma tu `Serie` y réstale a cada elemento el promedio. De esta manera obtenemos una nueva `Serie` que contiene las diferencias entre cada dato y el promedio.\n",
    "3. Después eleva tu `Serie` al cuadrado. Esto sirve para acentuar a los datos que están más alejados de tu promedio.\n",
    "4. Ahora suma todos los elementos de tu `Serie` y divídelos entre la cantidad de datos de la `Serie` original menos 1 (`n - 1`).\n",
    "5. Por último, saca la raíz cuadrada del valor obtenido: Ésta es tu desviación estándar.\n",
    "\n",
    "La fórmula para calcular la desviación estándar es: `ds = √(Σ(x_i - x_med)²/(n - 1))`\n",
    "\n",
    "Utiliza aritmética con `Series`, funciones vectorizadas y agregaciones para calcular esta estadística.\n",
    "\n",
    "Asigna tu resultado final a la variable `std`."
   ]
  },
  {
   "cell_type": "code",
   "execution_count": 1,
   "metadata": {},
   "outputs": [],
   "source": [
    "import pandas as pd\n",
    "import numpy as np"
   ]
  },
  {
   "cell_type": "code",
   "execution_count": 22,
   "metadata": {},
   "outputs": [],
   "source": [
    "edades = pd.Series([23, 24, 23, 34, 30, 17, 18, 24, 35, 28, 27,\n",
    "    27, 34, 32, 29, 16, 16, 17, 19, 34, 45, 46, 43, 45, 43, 32,\n",
    "    25, 29, 28, 38, 30, 37, 38, 24, 26, 25, 24, 19, 19, 18, 17,\n",
    "    18, 21, 20, 23, 24, 25, 25, 26, 24, 23, 32, 24, 25, 24, 36,\n",
    "    35, 36, 38, 39, 45, 46, 43, 48, 42, 41, 41, 26, 19, 19, 19,\n",
    "    20, 39, 38, 43, 28, 27, 39, 43, 52, 50, 38, 15, 17, 23, 25,\n",
    "    19, 32, 34, 35, 19, 19, 20, 26, 25, 43, 45, 46, 34, 33, 30,\n",
    "    30, 34, 45, 50, 50, 47, 25, 34, 37, 38, 19, 19, 20, 25, 28,\n",
    "    34, 32, 36, 39, 39, 28, 34, 33, 22, 25, 17, 17, 22, 24, 25,\n",
    "    45, 46, 43, 34, 35, 32, 23])\n"
   ]
  },
  {
   "cell_type": "code",
   "execution_count": 19,
   "metadata": {},
   "outputs": [
    {
     "data": {
      "text/plain": [
       "9.55678104254041"
      ]
     },
     "execution_count": 19,
     "metadata": {},
     "output_type": "execute_result"
    }
   ],
   "source": [
    "## Realiza aquí tus cálculos\n",
    "##\n",
    "## ...\n",
    "## ...\n",
    "suma = edades.sum()\n",
    "conteo = edades.count()\n",
    "media = suma / conteo\n",
    "dif_con_media = edades - media\n",
    "var = np.power(dif_con_media,2)\n",
    "v = np.sum(var)\n",
    "c = conteo - 1\n",
    "a = v / c\n",
    "std = np.sqrt(a)\n",
    "std"
   ]
  },
  {
   "cell_type": "code",
   "execution_count": 24,
   "metadata": {},
   "outputs": [
    {
     "data": {
      "text/plain": [
       "9.55678104254041"
      ]
     },
     "execution_count": 24,
     "metadata": {},
     "output_type": "execute_result"
    }
   ],
   "source": [
    "edades.std()"
   ]
  },
  {
   "cell_type": "code",
   "execution_count": null,
   "metadata": {},
   "outputs": [],
   "source": []
  }
 ],
 "metadata": {
  "kernelspec": {
   "display_name": "Python 3",
   "language": "python",
   "name": "python3"
  },
  "language_info": {
   "codemirror_mode": {
    "name": "ipython",
    "version": 3
   },
   "file_extension": ".py",
   "mimetype": "text/x-python",
   "name": "python",
   "nbconvert_exporter": "python",
   "pygments_lexer": "ipython3",
   "version": "3.8.5"
  }
 },
 "nbformat": 4,
 "nbformat_minor": 4
}
