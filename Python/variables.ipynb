{
 "cells": [
  {
   "cell_type": "markdown",
   "metadata": {
    "colab_type": "text",
    "id": "TxTA4QWHiNlF"
   },
   "source": [
    "## Ejemplo 2: Variables\n",
    "\n",
    "### 1. Objetivos:\n",
    "\n",
    "- Entender cuál es la sintaxis de la asignación de variables en Python\n",
    "- Aprender la convención de nombramiento de variables"
   ]
  },
  {
   "cell_type": "markdown",
   "metadata": {
    "colab_type": "text",
    "id": "a40rJJcziNlL"
   },
   "source": [
    "### 2. Desarrollo:\n",
    "\n",
    "Las siguientes son nombres posibles de variables en Python:\n",
    "\n",
    "- var_1 (si)\n",
    "- variable_2 (si)\n",
    "- variable_dos (si)\n",
    "- variable_nueva_3 (si)\n",
    "- esta_es_una_variable_nueva (si-)\n",
    "- variableDosPrima (si)\n",
    "- VariableDos (no)\n",
    "- EstaEsUnaVariable (no)\n",
    "\n",
    "Los siguientes son nombres inválidos para una variable de Python:\n",
    "\n",
    "- 1_2\n",
    "- 1_variable\n",
    "- 1variable\n",
    "- Soy una variable\n",
    "- SoyUnaVariableEnEspañol (si, pero no!)\n",
    "\n",
    "Asignemos unas cuantas variables a continuación:"
   ]
  },
  {
   "cell_type": "code",
   "execution_count": 1,
   "metadata": {
    "colab": {},
    "colab_type": "code",
    "id": "3q_VWD1-iNlP"
   },
   "outputs": [],
   "source": [
    "# crea tres variables llamadas nombre, cantidad y precio\n",
    "nombre = 'pluma'\n",
    "cantidad = 1\n",
    "precio = 10.00"
   ]
  },
  {
   "cell_type": "markdown",
   "metadata": {
    "colab_type": "text",
    "id": "Bt5lhL36iNle"
   },
   "source": [
    "Podemos acceder a su contenido con tan solo escribir el nombre de la variable en una celda y correr la celda (esto es gracias a Jupyter!):"
   ]
  },
  {
   "cell_type": "code",
   "execution_count": 2,
   "metadata": {
    "colab": {
     "base_uri": "https://localhost:8080/",
     "height": 34
    },
    "colab_type": "code",
    "id": "O8NuWBriiNlg",
    "outputId": "c428184a-f68f-4624-9209-24bcda87290d"
   },
   "outputs": [
    {
     "data": {
      "text/plain": [
       "'pluma'"
      ]
     },
     "execution_count": 2,
     "metadata": {},
     "output_type": "execute_result"
    }
   ],
   "source": [
    "# nombre de variable a visualizar\n",
    "nombre"
   ]
  },
  {
   "cell_type": "code",
   "execution_count": 3,
   "metadata": {
    "colab": {
     "base_uri": "https://localhost:8080/",
     "height": 34
    },
    "colab_type": "code",
    "id": "3anwn7b6iNlw",
    "outputId": "4f0821c5-88d6-4604-e6bb-be8ff7bbff3c"
   },
   "outputs": [
    {
     "data": {
      "text/plain": [
       "10.0"
      ]
     },
     "execution_count": 3,
     "metadata": {},
     "output_type": "execute_result"
    }
   ],
   "source": [
    "# otro nombre de variable a visualizar\n",
    "precio"
   ]
  },
  {
   "cell_type": "markdown",
   "metadata": {
    "colab_type": "text",
    "id": "_qtFHd3wiNl9"
   },
   "source": [
    "Si intento llamar una variable que no he asignado, JN me va a lanzar un error:"
   ]
  },
  {
   "cell_type": "code",
   "execution_count": 4,
   "metadata": {
    "colab": {
     "base_uri": "https://localhost:8080/",
     "height": 34
    },
    "colab_type": "code",
    "id": "CEIf1KvkiNl_",
    "outputId": "55fd88db-9f93-4ea5-a272-ccadce332fba"
   },
   "outputs": [
    {
     "ename": "NameError",
     "evalue": "name 'color' is not defined",
     "output_type": "error",
     "traceback": [
      "\u001b[1;31m---------------------------------------------------------------------------\u001b[0m",
      "\u001b[1;31mNameError\u001b[0m                                 Traceback (most recent call last)",
      "\u001b[1;32m<ipython-input-4-54efdd426d6c>\u001b[0m in \u001b[0;36m<module>\u001b[1;34m\u001b[0m\n\u001b[0;32m      1\u001b[0m \u001b[1;31m# escribe el nombre de una variable inexistente\u001b[0m\u001b[1;33m\u001b[0m\u001b[1;33m\u001b[0m\u001b[1;33m\u001b[0m\u001b[0m\n\u001b[1;32m----> 2\u001b[1;33m \u001b[0mcolor\u001b[0m\u001b[1;33m\u001b[0m\u001b[1;33m\u001b[0m\u001b[0m\n\u001b[0m",
      "\u001b[1;31mNameError\u001b[0m: name 'color' is not defined"
     ]
    }
   ],
   "source": [
    "# escribe el nombre de una variable inexistente\n",
    "color"
   ]
  },
  {
   "cell_type": "markdown",
   "metadata": {
    "colab_type": "text",
    "id": "JMIfpczGiNmQ"
   },
   "source": [
    "De igual, manera, si escribo una asignación, pero no corro la celda, ésa variable no estará disponible para mí más adelante:"
   ]
  },
  {
   "cell_type": "code",
   "execution_count": 6,
   "metadata": {
    "colab": {},
    "colab_type": "code",
    "id": "JEuxKHraiNmV"
   },
   "outputs": [],
   "source": [
    "# asigna un valor a la variable fecha pero no ejecutes la celda\n",
    "fecha = 16-2"
   ]
  },
  {
   "cell_type": "code",
   "execution_count": 7,
   "metadata": {
    "colab": {
     "base_uri": "https://localhost:8080/",
     "height": 35
    },
    "colab_type": "code",
    "id": "VD3JFmwniNmx",
    "outputId": "1d3fa123-d09b-4cc5-9abb-a61e18e7c3ba"
   },
   "outputs": [
    {
     "data": {
      "text/plain": [
       "14"
      ]
     },
     "execution_count": 7,
     "metadata": {},
     "output_type": "execute_result"
    }
   ],
   "source": [
    "fecha"
   ]
  },
  {
   "cell_type": "markdown",
   "metadata": {
    "colab_type": "text",
    "id": "zcw9tQ3OiNm7"
   },
   "source": [
    "Es hora de que tú practiques."
   ]
  },
  {
   "cell_type": "markdown",
   "metadata": {
    "colab_type": "text",
    "id": "GBR6omqqiNm-"
   },
   "source": [
    "---\n",
    "---\n",
    "## Reto 1: Variables\n",
    "\n",
    "### 1. Objetivos:\n",
    "    - Practicar convención de nombramiento y asignación de variables\n",
    " \n",
    "---\n",
    "    \n",
    "### 2. Desarrollo:"
   ]
  },
  {
   "cell_type": "markdown",
   "metadata": {
    "colab_type": "text",
    "id": "BsmHi0nViNm_"
   },
   "source": [
    "Comenta la línea de la siguiente celda, donde el nombre de una variable no sea válido y ejecuta la celda hasta que ya no obtengas errores. Los comentarios son texto que Python ignora a la hora de correr una celda. Nos sirven para hacer anotaciones. Un línea comentada es la que inicia con un símbolo de `#` (`# esto es un comentario`)."
   ]
  },
  {
   "cell_type": "code",
   "execution_count": 11,
   "metadata": {
    "colab": {
     "base_uri": "https://localhost:8080/",
     "height": 130
    },
    "colab_type": "code",
    "id": "1TjWQw65iNnB",
    "outputId": "d0025658-1bb8-43be-b3d7-1a55e14d1820"
   },
   "outputs": [],
   "source": [
    "var_1 = 5\n",
    "\n",
    "\n",
    "\n",
    "Variable_nueva_3 = 11 # no recomendada\n",
    "\n",
    "año_inicial = 2020 # no recomendada\n",
    "\n",
    "varNueva4 = 44\n",
    "\n",
    "var_nuevaNumero = 98\n",
    "\n",
    "var_núm = 22 # no recomendada\n",
    "\n",
    "VarNum = 11 # no recomendada\n",
    "\n",
    "varNum = 11\n",
    "\n",
    "soyUnaVariable = 14 # no recomendada"
   ]
  },
  {
   "cell_type": "markdown",
   "metadata": {
    "colab_type": "text",
    "id": "YnuXd4btiNnK"
   },
   "source": [
    "Después comenta también la líneas de las variables que siendo válidas no es recomendable usar"
   ]
  },
  {
   "cell_type": "code",
   "execution_count": null,
   "metadata": {
    "colab": {},
    "colab_type": "code",
    "id": "YFA7he39iNnM"
   },
   "outputs": [],
   "source": []
  }
 ],
 "metadata": {
  "colab": {
   "name": "variables.ipynb",
   "provenance": []
  },
  "kernelspec": {
   "display_name": "Python 3",
   "language": "python",
   "name": "python3"
  },
  "language_info": {
   "codemirror_mode": {
    "name": "ipython",
    "version": 3
   },
   "file_extension": ".py",
   "mimetype": "text/x-python",
   "name": "python",
   "nbconvert_exporter": "python",
   "pygments_lexer": "ipython3",
   "version": "3.8.5"
  }
 },
 "nbformat": 4,
 "nbformat_minor": 4
}
